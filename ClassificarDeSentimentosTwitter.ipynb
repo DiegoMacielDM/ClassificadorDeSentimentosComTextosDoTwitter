{
  "nbformat": 4,
  "nbformat_minor": 0,
  "metadata": {
    "colab": {
      "name": "ClassificarDeSentimentosTwitter.ipynb",
      "provenance": [],
      "authorship_tag": "ABX9TyPD4Jl7+NZ1U3rahEKZ3nnN",
      "include_colab_link": true
    },
    "kernelspec": {
      "name": "python3",
      "display_name": "Python 3"
    },
    "language_info": {
      "name": "python"
    }
  },
  "cells": [
    {
      "cell_type": "markdown",
      "metadata": {
        "id": "view-in-github",
        "colab_type": "text"
      },
      "source": [
        "<a href=\"https://colab.research.google.com/github/DiegoMacielDM/ClassificadorDeSentimentosComTextosDoTwitter/blob/main/ClassificarDeSentimentosTwitter.ipynb\" target=\"_parent\"><img src=\"https://colab.research.google.com/assets/colab-badge.svg\" alt=\"Open In Colab\"/></a>"
      ]
    },
    {
      "cell_type": "markdown",
      "metadata": {
        "id": "aqxWxP4tBivL"
      },
      "source": [
        "# Classificação de textos do Twitter com spaCy"
      ]
    },
    {
      "cell_type": "code",
      "metadata": {
        "colab": {
          "base_uri": "https://localhost:8080/"
        },
        "id": "TxgoK0TwBlgK",
        "outputId": "c2279a73-c332-4465-9b59-b96f0671087c"
      },
      "source": [
        "#!pip install spacy --upgrade\n",
        "!pip install -q spacy==2.2.3 #Atualizado: 02/05/2021 Obs: utilizar esta versão."
      ],
      "execution_count": 1,
      "outputs": [
        {
          "output_type": "stream",
          "name": "stdout",
          "text": [
            "\u001b[K     |████████████████████████████████| 10.4 MB 5.4 MB/s \n",
            "\u001b[K     |████████████████████████████████| 2.2 MB 31.3 MB/s \n",
            "\u001b[?25h"
          ]
        }
      ]
    },
    {
      "cell_type": "code",
      "metadata": {
        "colab": {
          "base_uri": "https://localhost:8080/",
          "height": 35
        },
        "id": "r3UGxb9yBnBa",
        "outputId": "965b1d82-cc23-4479-d505-d20f68179b9e"
      },
      "source": [
        "import spacy\n",
        "spacy.__version__"
      ],
      "execution_count": 2,
      "outputs": [
        {
          "output_type": "execute_result",
          "data": {
            "application/vnd.google.colaboratory.intrinsic+json": {
              "type": "string"
            },
            "text/plain": [
              "'2.2.3'"
            ]
          },
          "metadata": {},
          "execution_count": 2
        }
      ]
    },
    {
      "cell_type": "code",
      "metadata": {
        "colab": {
          "base_uri": "https://localhost:8080/"
        },
        "id": "Ta0CLCNSBpHC",
        "outputId": "e5e28013-5d9b-4852-ee0f-095305a449bf"
      },
      "source": [
        "!python3 -m spacy download pt"
      ],
      "execution_count": 3,
      "outputs": [
        {
          "output_type": "stream",
          "name": "stdout",
          "text": [
            "Collecting pt_core_news_sm==2.2.5\n",
            "  Downloading https://github.com/explosion/spacy-models/releases/download/pt_core_news_sm-2.2.5/pt_core_news_sm-2.2.5.tar.gz (21.2 MB)\n",
            "\u001b[K     |████████████████████████████████| 21.2 MB 1.4 MB/s \n",
            "\u001b[?25hRequirement already satisfied: spacy>=2.2.2 in /usr/local/lib/python3.7/dist-packages (from pt_core_news_sm==2.2.5) (2.2.3)\n",
            "Requirement already satisfied: thinc<7.4.0,>=7.3.0 in /usr/local/lib/python3.7/dist-packages (from spacy>=2.2.2->pt_core_news_sm==2.2.5) (7.3.1)\n",
            "Requirement already satisfied: requests<3.0.0,>=2.13.0 in /usr/local/lib/python3.7/dist-packages (from spacy>=2.2.2->pt_core_news_sm==2.2.5) (2.23.0)\n",
            "Requirement already satisfied: setuptools in /usr/local/lib/python3.7/dist-packages (from spacy>=2.2.2->pt_core_news_sm==2.2.5) (57.4.0)\n",
            "Requirement already satisfied: murmurhash<1.1.0,>=0.28.0 in /usr/local/lib/python3.7/dist-packages (from spacy>=2.2.2->pt_core_news_sm==2.2.5) (1.0.5)\n",
            "Requirement already satisfied: catalogue<1.1.0,>=0.0.7 in /usr/local/lib/python3.7/dist-packages (from spacy>=2.2.2->pt_core_news_sm==2.2.5) (1.0.0)\n",
            "Requirement already satisfied: numpy>=1.15.0 in /usr/local/lib/python3.7/dist-packages (from spacy>=2.2.2->pt_core_news_sm==2.2.5) (1.19.5)\n",
            "Requirement already satisfied: blis<0.5.0,>=0.4.0 in /usr/local/lib/python3.7/dist-packages (from spacy>=2.2.2->pt_core_news_sm==2.2.5) (0.4.1)\n",
            "Requirement already satisfied: srsly<1.1.0,>=0.1.0 in /usr/local/lib/python3.7/dist-packages (from spacy>=2.2.2->pt_core_news_sm==2.2.5) (1.0.5)\n",
            "Requirement already satisfied: wasabi<1.1.0,>=0.4.0 in /usr/local/lib/python3.7/dist-packages (from spacy>=2.2.2->pt_core_news_sm==2.2.5) (0.8.2)\n",
            "Requirement already satisfied: preshed<3.1.0,>=3.0.2 in /usr/local/lib/python3.7/dist-packages (from spacy>=2.2.2->pt_core_news_sm==2.2.5) (3.0.5)\n",
            "Requirement already satisfied: cymem<2.1.0,>=2.0.2 in /usr/local/lib/python3.7/dist-packages (from spacy>=2.2.2->pt_core_news_sm==2.2.5) (2.0.5)\n",
            "Requirement already satisfied: plac<1.2.0,>=0.9.6 in /usr/local/lib/python3.7/dist-packages (from spacy>=2.2.2->pt_core_news_sm==2.2.5) (1.1.3)\n",
            "Requirement already satisfied: importlib-metadata>=0.20 in /usr/local/lib/python3.7/dist-packages (from catalogue<1.1.0,>=0.0.7->spacy>=2.2.2->pt_core_news_sm==2.2.5) (4.8.1)\n",
            "Requirement already satisfied: zipp>=0.5 in /usr/local/lib/python3.7/dist-packages (from importlib-metadata>=0.20->catalogue<1.1.0,>=0.0.7->spacy>=2.2.2->pt_core_news_sm==2.2.5) (3.6.0)\n",
            "Requirement already satisfied: typing-extensions>=3.6.4 in /usr/local/lib/python3.7/dist-packages (from importlib-metadata>=0.20->catalogue<1.1.0,>=0.0.7->spacy>=2.2.2->pt_core_news_sm==2.2.5) (3.7.4.3)\n",
            "Requirement already satisfied: chardet<4,>=3.0.2 in /usr/local/lib/python3.7/dist-packages (from requests<3.0.0,>=2.13.0->spacy>=2.2.2->pt_core_news_sm==2.2.5) (3.0.4)\n",
            "Requirement already satisfied: urllib3!=1.25.0,!=1.25.1,<1.26,>=1.21.1 in /usr/local/lib/python3.7/dist-packages (from requests<3.0.0,>=2.13.0->spacy>=2.2.2->pt_core_news_sm==2.2.5) (1.24.3)\n",
            "Requirement already satisfied: idna<3,>=2.5 in /usr/local/lib/python3.7/dist-packages (from requests<3.0.0,>=2.13.0->spacy>=2.2.2->pt_core_news_sm==2.2.5) (2.10)\n",
            "Requirement already satisfied: certifi>=2017.4.17 in /usr/local/lib/python3.7/dist-packages (from requests<3.0.0,>=2.13.0->spacy>=2.2.2->pt_core_news_sm==2.2.5) (2021.5.30)\n",
            "Requirement already satisfied: tqdm<5.0.0,>=4.10.0 in /usr/local/lib/python3.7/dist-packages (from thinc<7.4.0,>=7.3.0->spacy>=2.2.2->pt_core_news_sm==2.2.5) (4.62.3)\n",
            "Building wheels for collected packages: pt-core-news-sm\n",
            "  Building wheel for pt-core-news-sm (setup.py) ... \u001b[?25l\u001b[?25hdone\n",
            "  Created wheel for pt-core-news-sm: filename=pt_core_news_sm-2.2.5-py3-none-any.whl size=21186282 sha256=d6b45f8342a431838e6fbe2b105a78952addb625079dd0a78d4d33188bd4f246\n",
            "  Stored in directory: /tmp/pip-ephem-wheel-cache-py83vrem/wheels/c3/f9/0c/5c014a36941a00f5df5fc0756cb961d7c457a978e697a6ce3b\n",
            "Successfully built pt-core-news-sm\n",
            "Installing collected packages: pt-core-news-sm\n",
            "Successfully installed pt-core-news-sm-2.2.5\n",
            "\u001b[38;5;2m✔ Download and installation successful\u001b[0m\n",
            "You can now load the model via spacy.load('pt_core_news_sm')\n",
            "\u001b[38;5;2m✔ Linking successful\u001b[0m\n",
            "/usr/local/lib/python3.7/dist-packages/pt_core_news_sm -->\n",
            "/usr/local/lib/python3.7/dist-packages/spacy/data/pt\n",
            "You can now load the model via spacy.load('pt')\n"
          ]
        }
      ]
    },
    {
      "cell_type": "code",
      "metadata": {
        "id": "ADq_vB0lBrI5"
      },
      "source": [
        "import pandas as pd\n",
        "import string\n",
        "import spacy\n",
        "import random\n",
        "import seaborn as sns\n",
        "import numpy as np\n",
        "import re"
      ],
      "execution_count": 4,
      "outputs": []
    },
    {
      "cell_type": "markdown",
      "metadata": {
        "id": "WXzvkZ5nB7uI"
      },
      "source": [
        "# Etapa 2: Carregamento das bases de dados"
      ]
    },
    {
      "cell_type": "markdown",
      "metadata": {
        "id": "CnSNUbsYCCAB"
      },
      "source": [
        "*  Link Kaggle: https://www.kaggle.com/augustop/portuguese-tweets-for-sentiment-analysis#TweetsNeutralHash.csv"
      ]
    },
    {
      "cell_type": "markdown",
      "metadata": {
        "id": "tA4UlDmBCNIJ"
      },
      "source": [
        "## Base de treinamento"
      ]
    },
    {
      "cell_type": "markdown",
      "metadata": {
        "id": "QV0Vzuy-DWOF"
      },
      "source": [
        "\n",
        "- Negative label: 0\n",
        "- Positive label: 1"
      ]
    },
    {
      "cell_type": "code",
      "metadata": {
        "id": "9LhACbQbCUFw"
      },
      "source": [
        "base_treinamento = pd.read_csv('/content/Train50.csv', delimiter=';')"
      ],
      "execution_count": 5,
      "outputs": []
    },
    {
      "cell_type": "code",
      "metadata": {
        "colab": {
          "base_uri": "https://localhost:8080/"
        },
        "id": "VfHoiDZFDMm3",
        "outputId": "2ac4e5a1-bb6d-49c9-e4be-8a19802d4657"
      },
      "source": [
        "base_treinamento.shape"
      ],
      "execution_count": 6,
      "outputs": [
        {
          "output_type": "execute_result",
          "data": {
            "text/plain": [
              "(50000, 5)"
            ]
          },
          "metadata": {},
          "execution_count": 6
        }
      ]
    },
    {
      "cell_type": "code",
      "metadata": {
        "colab": {
          "base_uri": "https://localhost:8080/",
          "height": 204
        },
        "id": "tBFyex2zDOMe",
        "outputId": "59c50e3e-68a2-440a-f5db-d5f0f52dc9e2"
      },
      "source": [
        "base_treinamento.head()"
      ],
      "execution_count": 7,
      "outputs": [
        {
          "output_type": "execute_result",
          "data": {
            "text/html": [
              "<div>\n",
              "<style scoped>\n",
              "    .dataframe tbody tr th:only-of-type {\n",
              "        vertical-align: middle;\n",
              "    }\n",
              "\n",
              "    .dataframe tbody tr th {\n",
              "        vertical-align: top;\n",
              "    }\n",
              "\n",
              "    .dataframe thead th {\n",
              "        text-align: right;\n",
              "    }\n",
              "</style>\n",
              "<table border=\"1\" class=\"dataframe\">\n",
              "  <thead>\n",
              "    <tr style=\"text-align: right;\">\n",
              "      <th></th>\n",
              "      <th>id</th>\n",
              "      <th>tweet_text</th>\n",
              "      <th>tweet_date</th>\n",
              "      <th>sentiment</th>\n",
              "      <th>query_used</th>\n",
              "    </tr>\n",
              "  </thead>\n",
              "  <tbody>\n",
              "    <tr>\n",
              "      <th>0</th>\n",
              "      <td>1050785521201541121</td>\n",
              "      <td>@Laranjito76 A pessoa certa para isso seria o ...</td>\n",
              "      <td>Fri Oct 12 16:29:25 +0000 2018</td>\n",
              "      <td>1</td>\n",
              "      <td>:)</td>\n",
              "    </tr>\n",
              "    <tr>\n",
              "      <th>1</th>\n",
              "      <td>1050785431955140608</td>\n",
              "      <td>@behin_d_curtain Para mim, é precisamente o co...</td>\n",
              "      <td>Fri Oct 12 16:29:04 +0000 2018</td>\n",
              "      <td>1</td>\n",
              "      <td>:)</td>\n",
              "    </tr>\n",
              "    <tr>\n",
              "      <th>2</th>\n",
              "      <td>1050785401248645120</td>\n",
              "      <td>Vou fazer um video hoje... estou pensando em f...</td>\n",
              "      <td>Fri Oct 12 16:28:56 +0000 2018</td>\n",
              "      <td>1</td>\n",
              "      <td>:)</td>\n",
              "    </tr>\n",
              "    <tr>\n",
              "      <th>3</th>\n",
              "      <td>1050785370982547461</td>\n",
              "      <td>aaaaaaaa amei tanto essas polaroids, nem sei e...</td>\n",
              "      <td>Fri Oct 12 16:28:49 +0000 2018</td>\n",
              "      <td>1</td>\n",
              "      <td>:)</td>\n",
              "    </tr>\n",
              "    <tr>\n",
              "      <th>4</th>\n",
              "      <td>1050785368902131713</td>\n",
              "      <td>Valoriza o coração do menininho que vc tem. El...</td>\n",
              "      <td>Fri Oct 12 16:28:49 +0000 2018</td>\n",
              "      <td>1</td>\n",
              "      <td>:)</td>\n",
              "    </tr>\n",
              "  </tbody>\n",
              "</table>\n",
              "</div>"
            ],
            "text/plain": [
              "                    id  ... query_used\n",
              "0  1050785521201541121  ...         :)\n",
              "1  1050785431955140608  ...         :)\n",
              "2  1050785401248645120  ...         :)\n",
              "3  1050785370982547461  ...         :)\n",
              "4  1050785368902131713  ...         :)\n",
              "\n",
              "[5 rows x 5 columns]"
            ]
          },
          "metadata": {},
          "execution_count": 7
        }
      ]
    },
    {
      "cell_type": "code",
      "metadata": {
        "colab": {
          "base_uri": "https://localhost:8080/",
          "height": 204
        },
        "id": "5zUS1ftmDRxW",
        "outputId": "5ca259b9-e8b6-47e0-c083-c8cde6791913"
      },
      "source": [
        "base_treinamento.tail()"
      ],
      "execution_count": 8,
      "outputs": [
        {
          "output_type": "execute_result",
          "data": {
            "text/html": [
              "<div>\n",
              "<style scoped>\n",
              "    .dataframe tbody tr th:only-of-type {\n",
              "        vertical-align: middle;\n",
              "    }\n",
              "\n",
              "    .dataframe tbody tr th {\n",
              "        vertical-align: top;\n",
              "    }\n",
              "\n",
              "    .dataframe thead th {\n",
              "        text-align: right;\n",
              "    }\n",
              "</style>\n",
              "<table border=\"1\" class=\"dataframe\">\n",
              "  <thead>\n",
              "    <tr style=\"text-align: right;\">\n",
              "      <th></th>\n",
              "      <th>id</th>\n",
              "      <th>tweet_text</th>\n",
              "      <th>tweet_date</th>\n",
              "      <th>sentiment</th>\n",
              "      <th>query_used</th>\n",
              "    </tr>\n",
              "  </thead>\n",
              "  <tbody>\n",
              "    <tr>\n",
              "      <th>49995</th>\n",
              "      <td>1046762827053232128</td>\n",
              "      <td>:( é tão lindo que dói https://t.co/GqnpgyWWxB</td>\n",
              "      <td>Mon Oct 01 14:04:40 +0000 2018</td>\n",
              "      <td>0</td>\n",
              "      <td>:(</td>\n",
              "    </tr>\n",
              "    <tr>\n",
              "      <th>49996</th>\n",
              "      <td>1046762813362966529</td>\n",
              "      <td>@veraluciarj Pois é.. tenho problema c/ \"coisa...</td>\n",
              "      <td>Mon Oct 01 14:04:37 +0000 2018</td>\n",
              "      <td>0</td>\n",
              "      <td>:(</td>\n",
              "    </tr>\n",
              "    <tr>\n",
              "      <th>49997</th>\n",
              "      <td>1046762806392082432</td>\n",
              "      <td>eu te amo tanto minja vidinha meu bem mais pre...</td>\n",
              "      <td>Mon Oct 01 14:04:35 +0000 2018</td>\n",
              "      <td>0</td>\n",
              "      <td>:(</td>\n",
              "    </tr>\n",
              "    <tr>\n",
              "      <th>49998</th>\n",
              "      <td>1046762752071618560</td>\n",
              "      <td>@itsLary @jessboluda Pfvor :(</td>\n",
              "      <td>Mon Oct 01 14:04:22 +0000 2018</td>\n",
              "      <td>0</td>\n",
              "      <td>:(</td>\n",
              "    </tr>\n",
              "    <tr>\n",
              "      <th>49999</th>\n",
              "      <td>1046762735340584962</td>\n",
              "      <td>@Renk_lol Passa ano Entra ano Eu nao desisto d...</td>\n",
              "      <td>Mon Oct 01 14:04:18 +0000 2018</td>\n",
              "      <td>0</td>\n",
              "      <td>:(</td>\n",
              "    </tr>\n",
              "  </tbody>\n",
              "</table>\n",
              "</div>"
            ],
            "text/plain": [
              "                        id  ... query_used\n",
              "49995  1046762827053232128  ...         :(\n",
              "49996  1046762813362966529  ...         :(\n",
              "49997  1046762806392082432  ...         :(\n",
              "49998  1046762752071618560  ...         :(\n",
              "49999  1046762735340584962  ...         :(\n",
              "\n",
              "[5 rows x 5 columns]"
            ]
          },
          "metadata": {},
          "execution_count": 8
        }
      ]
    },
    {
      "cell_type": "code",
      "metadata": {
        "colab": {
          "base_uri": "https://localhost:8080/",
          "height": 333
        },
        "id": "CYr9F-OZDajF",
        "outputId": "5a700c83-597e-48a8-9361-39dc72164ff1"
      },
      "source": [
        "sns.countplot(base_treinamento['sentiment'], label = 'Contagem');"
      ],
      "execution_count": 9,
      "outputs": [
        {
          "output_type": "stream",
          "name": "stderr",
          "text": [
            "/usr/local/lib/python3.7/dist-packages/seaborn/_decorators.py:43: FutureWarning: Pass the following variable as a keyword arg: x. From version 0.12, the only valid positional argument will be `data`, and passing other arguments without an explicit keyword will result in an error or misinterpretation.\n",
            "  FutureWarning\n"
          ]
        },
        {
          "output_type": "display_data",
          "data": {
            "image/png": "[encoded data removed]",
            "text/plain": [
              "<Figure size 432x288 with 1 Axes>"
            ]
          },
          "metadata": {
            "needs_background": "light"
          }
        }
      ]
    },
    {
      "cell_type": "code",
      "metadata": {
        "id": "WKNf33RoDeZd"
      },
      "source": [
        "base_treinamento.drop(['id', 'tweet_date', 'query_used'], axis = 1, inplace=True)"
      ],
      "execution_count": 10,
      "outputs": []
    },
    {
      "cell_type": "code",
      "metadata": {
        "colab": {
          "base_uri": "https://localhost:8080/",
          "height": 204
        },
        "id": "ah0V4GSbDiLt",
        "outputId": "495e7673-24b1-4a06-b3c2-943f288c0ec2"
      },
      "source": [
        "base_treinamento.head()"
      ],
      "execution_count": 11,
      "outputs": [
        {
          "output_type": "execute_result",
          "data": {
            "text/html": [
              "<div>\n",
              "<style scoped>\n",
              "    .dataframe tbody tr th:only-of-type {\n",
              "        vertical-align: middle;\n",
              "    }\n",
              "\n",
              "    .dataframe tbody tr th {\n",
              "        vertical-align: top;\n",
              "    }\n",
              "\n",
              "    .dataframe thead th {\n",
              "        text-align: right;\n",
              "    }\n",
              "</style>\n",
              "<table border=\"1\" class=\"dataframe\">\n",
              "  <thead>\n",
              "    <tr style=\"text-align: right;\">\n",
              "      <th></th>\n",
              "      <th>tweet_text</th>\n",
              "      <th>sentiment</th>\n",
              "    </tr>\n",
              "  </thead>\n",
              "  <tbody>\n",
              "    <tr>\n",
              "      <th>0</th>\n",
              "      <td>@Laranjito76 A pessoa certa para isso seria o ...</td>\n",
              "      <td>1</td>\n",
              "    </tr>\n",
              "    <tr>\n",
              "      <th>1</th>\n",
              "      <td>@behin_d_curtain Para mim, é precisamente o co...</td>\n",
              "      <td>1</td>\n",
              "    </tr>\n",
              "    <tr>\n",
              "      <th>2</th>\n",
              "      <td>Vou fazer um video hoje... estou pensando em f...</td>\n",
              "      <td>1</td>\n",
              "    </tr>\n",
              "    <tr>\n",
              "      <th>3</th>\n",
              "      <td>aaaaaaaa amei tanto essas polaroids, nem sei e...</td>\n",
              "      <td>1</td>\n",
              "    </tr>\n",
              "    <tr>\n",
              "      <th>4</th>\n",
              "      <td>Valoriza o coração do menininho que vc tem. El...</td>\n",
              "      <td>1</td>\n",
              "    </tr>\n",
              "  </tbody>\n",
              "</table>\n",
              "</div>"
            ],
            "text/plain": [
              "                                          tweet_text  sentiment\n",
              "0  @Laranjito76 A pessoa certa para isso seria o ...          1\n",
              "1  @behin_d_curtain Para mim, é precisamente o co...          1\n",
              "2  Vou fazer um video hoje... estou pensando em f...          1\n",
              "3  aaaaaaaa amei tanto essas polaroids, nem sei e...          1\n",
              "4  Valoriza o coração do menininho que vc tem. El...          1"
            ]
          },
          "metadata": {},
          "execution_count": 11
        }
      ]
    },
    {
      "cell_type": "code",
      "metadata": {
        "colab": {
          "base_uri": "https://localhost:8080/",
          "height": 271
        },
        "id": "r4N4znCJDo-G",
        "outputId": "1c26ec12-12b8-470d-c5df-6be290ea95e1"
      },
      "source": [
        "sns.heatmap(pd.isnull(base_treinamento));"
      ],
      "execution_count": 12,
      "outputs": [
        {
          "output_type": "display_data",
          "data": {
            "image/png": "[encoded data removed]",
            "text/plain": [
              "<Figure size 432x288 with 2 Axes>"
            ]
          },
          "metadata": {
            "needs_background": "light"
          }
        }
      ]
    },
    {
      "cell_type": "markdown",
      "metadata": {
        "id": "cPxVwpCnDr4W"
      },
      "source": [
        "## Base de teste"
      ]
    },
    {
      "cell_type": "code",
      "metadata": {
        "id": "8bpr1Dy1DspN"
      },
      "source": [
        "base_teste = pd.read_csv('/content/Test.csv', delimiter=';')"
      ],
      "execution_count": 13,
      "outputs": []
    },
    {
      "cell_type": "code",
      "metadata": {
        "colab": {
          "base_uri": "https://localhost:8080/",
          "height": 204
        },
        "id": "8ltgfWldDwf9",
        "outputId": "15c39709-70db-46fd-a400-7f708fbc32c1"
      },
      "source": [
        "base_teste.head()"
      ],
      "execution_count": 14,
      "outputs": [
        {
          "output_type": "execute_result",
          "data": {
            "text/html": [
              "<div>\n",
              "<style scoped>\n",
              "    .dataframe tbody tr th:only-of-type {\n",
              "        vertical-align: middle;\n",
              "    }\n",
              "\n",
              "    .dataframe tbody tr th {\n",
              "        vertical-align: top;\n",
              "    }\n",
              "\n",
              "    .dataframe thead th {\n",
              "        text-align: right;\n",
              "    }\n",
              "</style>\n",
              "<table border=\"1\" class=\"dataframe\">\n",
              "  <thead>\n",
              "    <tr style=\"text-align: right;\">\n",
              "      <th></th>\n",
              "      <th>id</th>\n",
              "      <th>tweet_text</th>\n",
              "      <th>tweet_date</th>\n",
              "      <th>sentiment</th>\n",
              "      <th>query_used</th>\n",
              "    </tr>\n",
              "  </thead>\n",
              "  <tbody>\n",
              "    <tr>\n",
              "      <th>0</th>\n",
              "      <td>1029536486021099522</td>\n",
              "      <td>@Gazo1a Nossa! Muito obrigada :)</td>\n",
              "      <td>Wed Aug 15 01:13:20 +0000 2018</td>\n",
              "      <td>1</td>\n",
              "      <td>:)</td>\n",
              "    </tr>\n",
              "    <tr>\n",
              "      <th>1</th>\n",
              "      <td>1029536496368406528</td>\n",
              "      <td>@BerzGamer vai pa puta que te pariu :)</td>\n",
              "      <td>Wed Aug 15 01:13:23 +0000 2018</td>\n",
              "      <td>1</td>\n",
              "      <td>:)</td>\n",
              "    </tr>\n",
              "    <tr>\n",
              "      <th>2</th>\n",
              "      <td>1029536531655131137</td>\n",
              "      <td>QUER MAIS DESCONTOS? (14/08) ⭐⭐⭐⭐⭐ 🌐 Confira n...</td>\n",
              "      <td>Wed Aug 15 01:13:31 +0000 2018</td>\n",
              "      <td>1</td>\n",
              "      <td>:)</td>\n",
              "    </tr>\n",
              "    <tr>\n",
              "      <th>3</th>\n",
              "      <td>1029536560117678081</td>\n",
              "      <td>EU VOU PEGAR VCS, ME AJUDEM GALERA, PELO AMOR ...</td>\n",
              "      <td>Wed Aug 15 01:13:38 +0000 2018</td>\n",
              "      <td>1</td>\n",
              "      <td>:)</td>\n",
              "    </tr>\n",
              "    <tr>\n",
              "      <th>4</th>\n",
              "      <td>1029536605852377088</td>\n",
              "      <td>Estávamos em casa do Zé e eu estava a morrer d...</td>\n",
              "      <td>Wed Aug 15 01:13:49 +0000 2018</td>\n",
              "      <td>1</td>\n",
              "      <td>:)</td>\n",
              "    </tr>\n",
              "  </tbody>\n",
              "</table>\n",
              "</div>"
            ],
            "text/plain": [
              "                    id  ... query_used\n",
              "0  1029536486021099522  ...         :)\n",
              "1  1029536496368406528  ...         :)\n",
              "2  1029536531655131137  ...         :)\n",
              "3  1029536560117678081  ...         :)\n",
              "4  1029536605852377088  ...         :)\n",
              "\n",
              "[5 rows x 5 columns]"
            ]
          },
          "metadata": {},
          "execution_count": 14
        }
      ]
    },
    {
      "cell_type": "code",
      "metadata": {
        "colab": {
          "base_uri": "https://localhost:8080/"
        },
        "id": "tgRCmQQnD2pF",
        "outputId": "874ee935-27d3-4594-ac63-8745c58d51d7"
      },
      "source": [
        "base_teste.shape"
      ],
      "execution_count": 15,
      "outputs": [
        {
          "output_type": "execute_result",
          "data": {
            "text/plain": [
              "(5000, 5)"
            ]
          },
          "metadata": {},
          "execution_count": 15
        }
      ]
    },
    {
      "cell_type": "code",
      "metadata": {
        "colab": {
          "base_uri": "https://localhost:8080/",
          "height": 333
        },
        "id": "itBqALapD51l",
        "outputId": "e0faaaca-a196-4168-a75d-2a067f733e89"
      },
      "source": [
        "sns.countplot(base_teste['sentiment'], label='Contagem');"
      ],
      "execution_count": 16,
      "outputs": [
        {
          "output_type": "stream",
          "name": "stderr",
          "text": [
            "/usr/local/lib/python3.7/dist-packages/seaborn/_decorators.py:43: FutureWarning: Pass the following variable as a keyword arg: x. From version 0.12, the only valid positional argument will be `data`, and passing other arguments without an explicit keyword will result in an error or misinterpretation.\n",
            "  FutureWarning\n"
          ]
        },
        {
          "output_type": "display_data",
          "data": {
            "image/png": "[encoded data removed]",
            "text/plain": [
              "<Figure size 432x288 with 1 Axes>"
            ]
          },
          "metadata": {
            "needs_background": "light"
          }
        }
      ]
    },
    {
      "cell_type": "code",
      "metadata": {
        "id": "RULeDDmyD8fl"
      },
      "source": [
        "base_teste.drop(['id', 'tweet_date', 'query_used'], axis = 1, inplace=True)"
      ],
      "execution_count": 17,
      "outputs": []
    },
    {
      "cell_type": "code",
      "metadata": {
        "colab": {
          "base_uri": "https://localhost:8080/",
          "height": 204
        },
        "id": "bG3haGkgD-C8",
        "outputId": "8200efe9-4cdd-404e-ee9c-54c1b030e9d0"
      },
      "source": [
        "base_teste.head()"
      ],
      "execution_count": 18,
      "outputs": [
        {
          "output_type": "execute_result",
          "data": {
            "text/html": [
              "<div>\n",
              "<style scoped>\n",
              "    .dataframe tbody tr th:only-of-type {\n",
              "        vertical-align: middle;\n",
              "    }\n",
              "\n",
              "    .dataframe tbody tr th {\n",
              "        vertical-align: top;\n",
              "    }\n",
              "\n",
              "    .dataframe thead th {\n",
              "        text-align: right;\n",
              "    }\n",
              "</style>\n",
              "<table border=\"1\" class=\"dataframe\">\n",
              "  <thead>\n",
              "    <tr style=\"text-align: right;\">\n",
              "      <th></th>\n",
              "      <th>tweet_text</th>\n",
              "      <th>sentiment</th>\n",
              "    </tr>\n",
              "  </thead>\n",
              "  <tbody>\n",
              "    <tr>\n",
              "      <th>0</th>\n",
              "      <td>@Gazo1a Nossa! Muito obrigada :)</td>\n",
              "      <td>1</td>\n",
              "    </tr>\n",
              "    <tr>\n",
              "      <th>1</th>\n",
              "      <td>@BerzGamer vai pa puta que te pariu :)</td>\n",
              "      <td>1</td>\n",
              "    </tr>\n",
              "    <tr>\n",
              "      <th>2</th>\n",
              "      <td>QUER MAIS DESCONTOS? (14/08) ⭐⭐⭐⭐⭐ 🌐 Confira n...</td>\n",
              "      <td>1</td>\n",
              "    </tr>\n",
              "    <tr>\n",
              "      <th>3</th>\n",
              "      <td>EU VOU PEGAR VCS, ME AJUDEM GALERA, PELO AMOR ...</td>\n",
              "      <td>1</td>\n",
              "    </tr>\n",
              "    <tr>\n",
              "      <th>4</th>\n",
              "      <td>Estávamos em casa do Zé e eu estava a morrer d...</td>\n",
              "      <td>1</td>\n",
              "    </tr>\n",
              "  </tbody>\n",
              "</table>\n",
              "</div>"
            ],
            "text/plain": [
              "                                          tweet_text  sentiment\n",
              "0                   @Gazo1a Nossa! Muito obrigada :)          1\n",
              "1             @BerzGamer vai pa puta que te pariu :)          1\n",
              "2  QUER MAIS DESCONTOS? (14/08) ⭐⭐⭐⭐⭐ 🌐 Confira n...          1\n",
              "3  EU VOU PEGAR VCS, ME AJUDEM GALERA, PELO AMOR ...          1\n",
              "4  Estávamos em casa do Zé e eu estava a morrer d...          1"
            ]
          },
          "metadata": {},
          "execution_count": 18
        }
      ]
    },
    {
      "cell_type": "code",
      "metadata": {
        "colab": {
          "base_uri": "https://localhost:8080/",
          "height": 271
        },
        "id": "EZ3lZAbOD_4l",
        "outputId": "2b90f488-49b7-462f-a9f2-6176d918ef28"
      },
      "source": [
        "sns.heatmap(pd.isnull(base_teste));"
      ],
      "execution_count": 19,
      "outputs": [
        {
          "output_type": "display_data",
          "data": {
            "image/png": "[encoded data removed]",
            "text/plain": [
              "<Figure size 432x288 with 2 Axes>"
            ]
          },
          "metadata": {
            "needs_background": "light"
          }
        }
      ]
    },
    {
      "cell_type": "markdown",
      "metadata": {
        "id": "L5viWHXtEHLl"
      },
      "source": [
        "# Etapa 3: Função para pré-processamento dos textos\n",
        "\n",
        "- Letras minúsculas\n",
        "- Nome do usuário (@)\n",
        "- URLs\n",
        "- Espaços em branco\n",
        "- Emoticons\n",
        "- Stop words\n",
        "- Lematização\n",
        "- Pontuações"
      ]
    },
    {
      "cell_type": "code",
      "metadata": {
        "colab": {
          "base_uri": "https://localhost:8080/"
        },
        "id": "4zEAgiLqEIFc",
        "outputId": "3639b424-9875-483b-8297-66d1ef0bec71"
      },
      "source": [
        "pln = spacy.load('pt')\n",
        "pln"
      ],
      "execution_count": 40,
      "outputs": [
        {
          "output_type": "execute_result",
          "data": {
            "text/plain": [
              "<spacy.lang.pt.Portuguese at 0x7ff05113ae90>"
            ]
          },
          "metadata": {},
          "execution_count": 40
        }
      ]
    },
    {
      "cell_type": "code",
      "metadata": {
        "colab": {
          "base_uri": "https://localhost:8080/",
          "height": 35
        },
        "id": "LkjgCHbqEM10",
        "outputId": "315c2790-76b5-44f3-ace7-6e248f080abb"
      },
      "source": [
        "base_treinamento['tweet_text'][1]"
      ],
      "execution_count": 41,
      "outputs": [
        {
          "output_type": "execute_result",
          "data": {
            "application/vnd.google.colaboratory.intrinsic+json": {
              "type": "string"
            },
            "text/plain": [
              "'  parir mim precisamente o contrário emocaopositiva vir o chuva e vir o disposição emocaopositiva'"
            ]
          },
          "metadata": {},
          "execution_count": 41
        }
      ]
    },
    {
      "cell_type": "code",
      "metadata": {
        "id": "VkZvB04iE6k6"
      },
      "source": [
        "stop_words = spacy.lang.pt.stop_words.STOP_WORDS"
      ],
      "execution_count": 42,
      "outputs": []
    },
    {
      "cell_type": "code",
      "metadata": {
        "colab": {
          "base_uri": "https://localhost:8080/"
        },
        "id": "q1y7AwatE8Jj",
        "outputId": "aec7b023-0a27-4546-cfe4-399db6f9a72e"
      },
      "source": [
        "print(stop_words)"
      ],
      "execution_count": 43,
      "outputs": [
        {
          "output_type": "stream",
          "name": "stdout",
          "text": [
            "{'dessa', 'sobre', 'quinta', 'nossa', 'sou', 'ainda', 'custa', 'nada', 'aí', 'toda', 'poder', 'ora', 'grandes', 'parte', 'comprido', 'vai', 'após', 'estes', 'zero', 'estivestes', 'de', 'às', 'valor', 'local', 'até', 'vinte', 'desta', 'foram', 'porque', 'antes', 'exemplo', 'tal', 'teu', 'todos', 'pouca', 'está', 'segundo', 'uma', 'lado', 'fazia', 'fora', 'não', 'somente', 'tentei', 'sempre', 'iniciar', 'dois', 'vários', 'nesta', 'aquela', 'terceiro', 'portanto', 'sistema', 'esses', 'ir', 'tu', 'cedo', 'sexta', 'nunca', 'dezoito', 'quem', 'tivestes', 'tão', 'meses', 'inicio', 'mesmo', 'quanto', 'num', 'deste', 'partir', 'pegar', 'pouco', 'vêm', 'vais', 'fará', 'quinto', 'apoia', 'contudo', 'mal', 'dezassete', 'nem', 'daquela', 'cada', 'estado', 'então', 'nessa', 'depois', 'além', 'tais', 'pontos', 'ponto', 'maiorias', 'quatro', 'tendes', 'através', 'tiveram', 'adeus', 'apenas', 'debaixo', 'estas', 'fez', 'tive', 'qual', 'tiveste', 'ela', 'conhecido', 'usar', 'parece', 'certamente', 'devem', 'quarta', 'vossas', 'estão', 'agora', 'fazer', 'dez', 'eles', 'conhecida', 'vez', 'posição', 'pois', 'vosso', 'conselho', 'as', 'talvez', 'for', 'tanto', 'da', 'aos', 'mil', 'quarto', 'breve', 'sétimo', 'diante', 'ao', 'numa', 'pode', 'você', 'seis', 'fomos', 'algo', 'nenhuma', 'quais', 'vocês', 'tarde', 'cento', 'sabe', 'duas', 'das', 'atrás', 'faz', 'meu', 'lá', 'uns', 'contra', 'dos', 'falta', 'outra', 'estive', 'onde', 'alguns', 'novo', 'ligado', 'por', 'estou', 'cima', 'usa', 'me', 'estará', 'têm', 'vezes', 'fazeis', 'perto', 'temos', 'bem', 'ele', 'dezanove', 'algumas', 'meio', 'aquele', 'cujo', 'ter', 'vem', 'esta', 'próprio', 'dar', 'sexto', 'se', 'daquele', 'ser', 'umas', 'sete', 'cinco', 'apoio', 'povo', 'final', 'te', 'teve', 'primeira', 'minhas', 'este', 'grupo', 'ver', 'três', 'és', 'fostes', 'podia', 'puderam', 'corrente', 'treze', 'estivemos', 'meus', 'isso', 'boa', 'caminho', 'tudo', 'vindo', 'suas', 'os', 'todo', 'tempo', 'momento', 'área', 'vinda', 'tens', 'do', 'certeza', 'pela', 'ou', 'bom', 'obrigado', 'sob', 'tem', 'diz', 'favor', 'era', 'seus', 'naquele', 'possível', 'forma', 'tuas', 'estás', 'que', 'maior', 'próximo', 'nove', 'aquilo', 'estava', 'sei', 'eu', 'máximo', 'des', 'disso', 'menos', 'último', 'faço', 'desse', 'primeiro', 'vens', 'coisa', 'quieto', 'enquanto', 'nos', 'mais', 'nesse', 'assim', 'tentaram', 'pelos', 'tipo', 'próxima', 'novos', 'quieta', 'oito', 'tanta', 'terceira', 'também', 'possivelmente', 'um', 'logo', 'dão', 'minha', 'sétima', 'aquelas', 'porém', 'oitavo', 'outros', 'ambas', 'ademais', 'qualquer', 'embora', 'estiveram', 'fazes', 'geral', 'número', 'aqueles', 'quê', 'nossas', 'cá', 'quer', 'apontar', 'outras', 'questão', 'mas', 'grande', 'quando', 'vão', 'deve', 'foste', 'isto', 'foi', 'baixo', 'lhe', 'pelo', 'doze', 'estar', 'fazemos', 'vós', 'direita', 'porquê', 'tenho', 'posso', 'põem', 'nós', 'essa', 'vos', 'quero', 'à', 'põe', 'dezasseis', 'eventual', 'lugar', 'novas', 'elas', 'números', 'onze', 'cuja', 'saber', 'vossa', 'em', 'veja', 'sois', 'deverá', 'dá', 'já', 'pelas', 'poderá', 'naquela', 'esse', 'fim', 'dentro', 'dizer', 'estiveste', 'demais', 'teus', 'fui', 'vossos', 'com', 'são', 'mês', 'nossos', 'só', 'ontem', 'ambos', 'obrigada', 'segunda', 'pôde', 'fazem', 'para', 'somos', 'todas', 'quinze', 'inclusive', 'tentar', 'nuns', 'podem', 'nosso', 'menor', 'entre', 'aqui', 'esteve', 'sim', 'sua', 'essas', 'relação', 'catorze', 'seria', 'acerca', 'na', 'tente', 'seu', 'é', 'nas', 'nova', 'oitava', 'maioria', 'comprida', 'neste', 'desde', 'muito', 'querem', 'ali', 'muitos', 'bastante', 'dizem', 'longe', 'sem', 'como', 'nível', 'porquanto', 'irá', 'tivemos', 'no', 'tua'}\n"
          ]
        }
      ]
    },
    {
      "cell_type": "code",
      "metadata": {
        "id": "zR_HMn6FE_5K"
      },
      "source": [
        "def preprocessamento(texto):\n",
        "  # Letras minúsculas\n",
        "  texto = texto.lower()\n",
        "\n",
        "  # Nome do usuário\n",
        "  texto = re.sub(r\"@[A-Za-z0-9$-_@.&+]+\", ' ', texto)\n",
        "\n",
        "  # URLs\n",
        "  texto = re.sub(r\"https?://[A-Za-z0-9./]+\", ' ', texto)\n",
        "\n",
        "  # Espaços em branco\n",
        "  texto = re.sub(r\" +\", ' ', texto)\n",
        "\n",
        "  # Emoticons\n",
        "  lista_emocoes = {':)': 'emocaopositiva',\n",
        "                   ':d': 'emocaopositiva',\n",
        "                   ':(': 'emocaonegativa'}\n",
        "  for emocao in lista_emocoes:\n",
        "    texto = texto.replace(emocao, lista_emocoes[emocao])\n",
        "\n",
        "  # Lematização\n",
        "  documento = pln(texto)\n",
        "\n",
        "  lista = []\n",
        "  for token in documento:\n",
        "    lista.append(token.lemma_)\n",
        "  \n",
        "  # Stop words e pontuações\n",
        "  lista = [palavra for palavra in lista if palavra not in stop_words and palavra not in string.punctuation]\n",
        "  lista = ' '.join([str(elemento) for elemento in lista if not elemento.isdigit()])\n",
        "  \n",
        "  return lista"
      ],
      "execution_count": 44,
      "outputs": []
    },
    {
      "cell_type": "code",
      "metadata": {
        "colab": {
          "base_uri": "https://localhost:8080/",
          "height": 35
        },
        "id": "SNIRD1qnFGlj",
        "outputId": "c4607160-e8cf-4747-a936-e6e27d82a75b"
      },
      "source": [
        "texto_teste = '@behin_d_curtain :D Para :( mim, http://www.iaexpert.com.br é precisamente o contrário :) Vem a chuva e vem a boa disposição :)'\n",
        "resultado = preprocessamento(texto_teste)\n",
        "resultado"
      ],
      "execution_count": 45,
      "outputs": [
        {
          "output_type": "execute_result",
          "data": {
            "application/vnd.google.colaboratory.intrinsic+json": {
              "type": "string"
            },
            "text/plain": [
              "'  emocaopositiva parir emocaonegativa mim precisamente o contrário emocaopositiva vir o chuva e vir o disposição emocaopositiva'"
            ]
          },
          "metadata": {},
          "execution_count": 45
        }
      ]
    },
    {
      "cell_type": "markdown",
      "metadata": {
        "id": "an_vkTsHajZF"
      },
      "source": [
        "# Etapa 4: Pré-processamento da base de dados"
      ]
    },
    {
      "cell_type": "code",
      "metadata": {
        "colab": {
          "base_uri": "https://localhost:8080/",
          "height": 359
        },
        "id": "lajFTIiWaxqs",
        "outputId": "0a3fd5e8-85de-447a-a6c3-f6a482b0efa3"
      },
      "source": [
        "base_treinamento.head(10)"
      ],
      "execution_count": 46,
      "outputs": [
        {
          "output_type": "execute_result",
          "data": {
            "text/html": [
              "<div>\n",
              "<style scoped>\n",
              "    .dataframe tbody tr th:only-of-type {\n",
              "        vertical-align: middle;\n",
              "    }\n",
              "\n",
              "    .dataframe tbody tr th {\n",
              "        vertical-align: top;\n",
              "    }\n",
              "\n",
              "    .dataframe thead th {\n",
              "        text-align: right;\n",
              "    }\n",
              "</style>\n",
              "<table border=\"1\" class=\"dataframe\">\n",
              "  <thead>\n",
              "    <tr style=\"text-align: right;\">\n",
              "      <th></th>\n",
              "      <th>tweet_text</th>\n",
              "      <th>sentiment</th>\n",
              "    </tr>\n",
              "  </thead>\n",
              "  <tbody>\n",
              "    <tr>\n",
              "      <th>0</th>\n",
              "      <td>o pessoa certo parir seriar o valer e azeved...</td>\n",
              "      <td>1</td>\n",
              "    </tr>\n",
              "    <tr>\n",
              "      <th>1</th>\n",
              "      <td>parir mim precisamente o contrário emocaopos...</td>\n",
              "      <td>1</td>\n",
              "    </tr>\n",
              "    <tr>\n",
              "      <th>2</th>\n",
              "      <td>video hoje ... pensar falar sobrar o meter csg...</td>\n",
              "      <td>1</td>\n",
              "    </tr>\n",
              "    <tr>\n",
              "      <th>3</th>\n",
              "      <td>aaaaaaaa amar polaroids expressar o quantum to...</td>\n",
              "      <td>1</td>\n",
              "    </tr>\n",
              "    <tr>\n",
              "      <th>4</th>\n",
              "      <td>valorizar o coração menino vc diferente o sorr...</td>\n",
              "      <td>1</td>\n",
              "    </tr>\n",
              "    <tr>\n",
              "      <th>5</th>\n",
              "      <td>amigo to emocaopositiva</td>\n",
              "      <td>1</td>\n",
              "    </tr>\n",
              "    <tr>\n",
              "      <th>6</th>\n",
              "      <td>bravo jairo emocaopositiva</td>\n",
              "      <td>1</td>\n",
              "    </tr>\n",
              "    <tr>\n",
              "      <th>7</th>\n",
              "      <td>socorrer ksoaksosks achar to o caixa som :p</td>\n",
              "      <td>1</td>\n",
              "    </tr>\n",
              "    <tr>\n",
              "      <th>8</th>\n",
              "      <td>gostar fazenda emocaopositiva morrer medo ga...</td>\n",
              "      <td>1</td>\n",
              "    </tr>\n",
              "    <tr>\n",
              "      <th>9</th>\n",
              "      <td>amanhar venom emocaopositiva</td>\n",
              "      <td>1</td>\n",
              "    </tr>\n",
              "  </tbody>\n",
              "</table>\n",
              "</div>"
            ],
            "text/plain": [
              "                                          tweet_text  sentiment\n",
              "0    o pessoa certo parir seriar o valer e azeved...          1\n",
              "1    parir mim precisamente o contrário emocaopos...          1\n",
              "2  video hoje ... pensar falar sobrar o meter csg...          1\n",
              "3  aaaaaaaa amar polaroids expressar o quantum to...          1\n",
              "4  valorizar o coração menino vc diferente o sorr...          1\n",
              "5                            amigo to emocaopositiva          1\n",
              "6                         bravo jairo emocaopositiva          1\n",
              "7        socorrer ksoaksosks achar to o caixa som :p          1\n",
              "8    gostar fazenda emocaopositiva morrer medo ga...          1\n",
              "9                       amanhar venom emocaopositiva          1"
            ]
          },
          "metadata": {},
          "execution_count": 46
        }
      ]
    },
    {
      "cell_type": "code",
      "metadata": {
        "id": "0xsJ6vs8a2jE"
      },
      "source": [
        "base_treinamento['tweet_text'] = base_treinamento['tweet_text'].apply(preprocessamento)"
      ],
      "execution_count": 48,
      "outputs": []
    },
    {
      "cell_type": "code",
      "metadata": {
        "colab": {
          "base_uri": "https://localhost:8080/",
          "height": 359
        },
        "id": "F5fw6cSndO53",
        "outputId": "89f76d8b-18d0-4e33-c52d-97c0f32368d8"
      },
      "source": [
        "base_treinamento.head(10)"
      ],
      "execution_count": 49,
      "outputs": [
        {
          "output_type": "execute_result",
          "data": {
            "text/html": [
              "<div>\n",
              "<style scoped>\n",
              "    .dataframe tbody tr th:only-of-type {\n",
              "        vertical-align: middle;\n",
              "    }\n",
              "\n",
              "    .dataframe tbody tr th {\n",
              "        vertical-align: top;\n",
              "    }\n",
              "\n",
              "    .dataframe thead th {\n",
              "        text-align: right;\n",
              "    }\n",
              "</style>\n",
              "<table border=\"1\" class=\"dataframe\">\n",
              "  <thead>\n",
              "    <tr style=\"text-align: right;\">\n",
              "      <th></th>\n",
              "      <th>tweet_text</th>\n",
              "      <th>sentiment</th>\n",
              "    </tr>\n",
              "  </thead>\n",
              "  <tbody>\n",
              "    <tr>\n",
              "      <th>0</th>\n",
              "      <td>o pessoa certar parir seriar o valer e azeve...</td>\n",
              "      <td>1</td>\n",
              "    </tr>\n",
              "    <tr>\n",
              "      <th>1</th>\n",
              "      <td>parir mim precisamente o contrário emocaopos...</td>\n",
              "      <td>1</td>\n",
              "    </tr>\n",
              "    <tr>\n",
              "      <th>2</th>\n",
              "      <td>video hoje ... pensar falar sobrar o meter csg...</td>\n",
              "      <td>1</td>\n",
              "    </tr>\n",
              "    <tr>\n",
              "      <th>3</th>\n",
              "      <td>aaaaaaaa amar polaroids expressar o quantum to...</td>\n",
              "      <td>1</td>\n",
              "    </tr>\n",
              "    <tr>\n",
              "      <th>4</th>\n",
              "      <td>valorizar o coração menino vc diferente o sorr...</td>\n",
              "      <td>1</td>\n",
              "    </tr>\n",
              "    <tr>\n",
              "      <th>5</th>\n",
              "      <td>amigar to emocaopositiva</td>\n",
              "      <td>1</td>\n",
              "    </tr>\n",
              "    <tr>\n",
              "      <th>6</th>\n",
              "      <td>bravo jairo emocaopositiva</td>\n",
              "      <td>1</td>\n",
              "    </tr>\n",
              "    <tr>\n",
              "      <th>7</th>\n",
              "      <td>socorrer ksoaksosks achar to o caixa som :p</td>\n",
              "      <td>1</td>\n",
              "    </tr>\n",
              "    <tr>\n",
              "      <th>8</th>\n",
              "      <td>gostar fazenda emocaopositiva morrer medo ga...</td>\n",
              "      <td>1</td>\n",
              "    </tr>\n",
              "    <tr>\n",
              "      <th>9</th>\n",
              "      <td>amanhar venom emocaopositiva</td>\n",
              "      <td>1</td>\n",
              "    </tr>\n",
              "  </tbody>\n",
              "</table>\n",
              "</div>"
            ],
            "text/plain": [
              "                                          tweet_text  sentiment\n",
              "0    o pessoa certar parir seriar o valer e azeve...          1\n",
              "1    parir mim precisamente o contrário emocaopos...          1\n",
              "2  video hoje ... pensar falar sobrar o meter csg...          1\n",
              "3  aaaaaaaa amar polaroids expressar o quantum to...          1\n",
              "4  valorizar o coração menino vc diferente o sorr...          1\n",
              "5                           amigar to emocaopositiva          1\n",
              "6                         bravo jairo emocaopositiva          1\n",
              "7        socorrer ksoaksosks achar to o caixa som :p          1\n",
              "8    gostar fazenda emocaopositiva morrer medo ga...          1\n",
              "9                       amanhar venom emocaopositiva          1"
            ]
          },
          "metadata": {},
          "execution_count": 49
        }
      ]
    },
    {
      "cell_type": "code",
      "metadata": {
        "id": "oyKYNzXzdYIW"
      },
      "source": [
        "base_teste['tweet_text'] = base_teste['tweet_text'].apply(preprocessamento)"
      ],
      "execution_count": 50,
      "outputs": []
    },
    {
      "cell_type": "code",
      "metadata": {
        "colab": {
          "base_uri": "https://localhost:8080/",
          "height": 359
        },
        "id": "VNmuQK6pdoSO",
        "outputId": "d7734630-3cf3-477d-cffb-af9b97e7528f"
      },
      "source": [
        "base_teste.head(10)"
      ],
      "execution_count": 51,
      "outputs": [
        {
          "output_type": "execute_result",
          "data": {
            "text/html": [
              "<div>\n",
              "<style scoped>\n",
              "    .dataframe tbody tr th:only-of-type {\n",
              "        vertical-align: middle;\n",
              "    }\n",
              "\n",
              "    .dataframe tbody tr th {\n",
              "        vertical-align: top;\n",
              "    }\n",
              "\n",
              "    .dataframe thead th {\n",
              "        text-align: right;\n",
              "    }\n",
              "</style>\n",
              "<table border=\"1\" class=\"dataframe\">\n",
              "  <thead>\n",
              "    <tr style=\"text-align: right;\">\n",
              "      <th></th>\n",
              "      <th>tweet_text</th>\n",
              "      <th>sentiment</th>\n",
              "    </tr>\n",
              "  </thead>\n",
              "  <tbody>\n",
              "    <tr>\n",
              "      <th>0</th>\n",
              "      <td>obrigar emocaopositiva</td>\n",
              "      <td>1</td>\n",
              "    </tr>\n",
              "    <tr>\n",
              "      <th>1</th>\n",
              "      <td>pa puta parir emocaopositiva</td>\n",
              "      <td>1</td>\n",
              "    </tr>\n",
              "    <tr>\n",
              "      <th>2</th>\n",
              "      <td>querer descontar 14/08 ⭐ ⭐ ⭐ ⭐ ⭐ 🌐 conferir o ...</td>\n",
              "      <td>1</td>\n",
              "    </tr>\n",
              "    <tr>\n",
              "      <th>3</th>\n",
              "      <td>vcs ajudar galera pelar amor butera emocaoposi...</td>\n",
              "      <td>1</td>\n",
              "    </tr>\n",
              "    <tr>\n",
              "      <th>4</th>\n",
              "      <td>casar zé e o morrer sono chegar o casar e fica...</td>\n",
              "      <td>1</td>\n",
              "    </tr>\n",
              "    <tr>\n",
              "      <th>5</th>\n",
              "      <td>precisar emocaopositiva</td>\n",
              "      <td>1</td>\n",
              "    </tr>\n",
              "    <tr>\n",
              "      <th>6</th>\n",
              "      <td>acaso adorar beijar e abraçar hahahahaha bue...</td>\n",
              "      <td>1</td>\n",
              "    </tr>\n",
              "    <tr>\n",
              "      <th>7</th>\n",
              "      <td>solteiro s emocaopositiva</td>\n",
              "      <td>1</td>\n",
              "    </tr>\n",
              "    <tr>\n",
              "      <th>8</th>\n",
              "      <td>lindeza cortador kit mário coleção bia cravol ...</td>\n",
              "      <td>1</td>\n",
              "    </tr>\n",
              "    <tr>\n",
              "      <th>9</th>\n",
              "      <td>claro emocaopositiva</td>\n",
              "      <td>1</td>\n",
              "    </tr>\n",
              "  </tbody>\n",
              "</table>\n",
              "</div>"
            ],
            "text/plain": [
              "                                          tweet_text  sentiment\n",
              "0                             obrigar emocaopositiva          1\n",
              "1                       pa puta parir emocaopositiva          1\n",
              "2  querer descontar 14/08 ⭐ ⭐ ⭐ ⭐ ⭐ 🌐 conferir o ...          1\n",
              "3  vcs ajudar galera pelar amor butera emocaoposi...          1\n",
              "4  casar zé e o morrer sono chegar o casar e fica...          1\n",
              "5                            precisar emocaopositiva          1\n",
              "6    acaso adorar beijar e abraçar hahahahaha bue...          1\n",
              "7                          solteiro s emocaopositiva          1\n",
              "8  lindeza cortador kit mário coleção bia cravol ...          1\n",
              "9                               claro emocaopositiva          1"
            ]
          },
          "metadata": {},
          "execution_count": 51
        }
      ]
    },
    {
      "cell_type": "markdown",
      "metadata": {
        "id": "DDGmluXKdry_"
      },
      "source": [
        "### Tratamento da classe"
      ]
    },
    {
      "cell_type": "code",
      "metadata": {
        "id": "s_EzvN69dsdW"
      },
      "source": [
        "exemplo_base_dados = [[\"este trabalho é agradável\", {\"POSITIVO\": True, \"NEGATIVO\": False}],\n",
        "                      [\"este lugar continua assustador\", {\"POSITIVO\": False, \"NEGATIVO\": True}]]"
      ],
      "execution_count": 52,
      "outputs": []
    },
    {
      "cell_type": "code",
      "metadata": {
        "id": "XlcWXF0vd1Se"
      },
      "source": [
        "base_dados_treinamento_final = []\n",
        "for texto, emocao in zip(base_treinamento['tweet_text'], base_treinamento['sentiment']):\n",
        "  if emocao == 1:\n",
        "    dic = ({'POSITIVO': True, 'NEGATIVO': False})\n",
        "  elif emocao == 0:\n",
        "    dic = ({'POSITIVO': False, 'NEGATIVO': True})\n",
        "\n",
        "  base_dados_treinamento_final.append([texto, dic.copy()])"
      ],
      "execution_count": 53,
      "outputs": []
    },
    {
      "cell_type": "code",
      "metadata": {
        "colab": {
          "base_uri": "https://localhost:8080/"
        },
        "id": "syjgtryQd5HW",
        "outputId": "4033fe8a-135e-4527-b924-5d2ae0ed2e46"
      },
      "source": [
        "len(base_dados_treinamento_final)"
      ],
      "execution_count": 54,
      "outputs": [
        {
          "output_type": "execute_result",
          "data": {
            "text/plain": [
              "50000"
            ]
          },
          "metadata": {},
          "execution_count": 54
        }
      ]
    },
    {
      "cell_type": "code",
      "metadata": {
        "colab": {
          "base_uri": "https://localhost:8080/"
        },
        "id": "kMN8aujGd7yG",
        "outputId": "8b94e729-7cd6-4718-b4a5-9ada3c2c29b8"
      },
      "source": [
        "base_dados_treinamento_final[10:15]"
      ],
      "execution_count": 55,
      "outputs": [
        {
          "output_type": "execute_result",
          "data": {
            "text/plain": [
              "[['simplesmente o deixar chatear querer muitooo e iludir emocaopositiva',\n",
              "  {'NEGATIVO': False, 'POSITIVO': True}],\n",
              " ['o comedir umar rotina e perfeitamente parir consolidar o escola condução :p',\n",
              "  {'NEGATIVO': False, 'POSITIVO': True}],\n",
              " ['amigar parecer apaixonar vc — recíproco emocaopositiva',\n",
              "  {'NEGATIVO': False, 'POSITIVO': True}],\n",
              " ['  gajar bacano aleijar esperar e o silvar feliz emocaopositiva',\n",
              "  {'NEGATIVO': False, 'POSITIVO': True}],\n",
              " ['tou o video cabra bebé emocaopositiva',\n",
              "  {'NEGATIVO': False, 'POSITIVO': True}]]"
            ]
          },
          "metadata": {},
          "execution_count": 55
        }
      ]
    },
    {
      "cell_type": "code",
      "metadata": {
        "colab": {
          "base_uri": "https://localhost:8080/"
        },
        "id": "17kYFTxud-aO",
        "outputId": "f2cc2e8a-06ea-4850-e4e8-235310540ca3"
      },
      "source": [
        "base_dados_treinamento_final[45000:45005]"
      ],
      "execution_count": 56,
      "outputs": [
        {
          "output_type": "execute_result",
          "data": {
            "text/plain": [
              "[['o menino pijama listrar o filmar triste mundo estruturar nenhum pra assistir rever e to pensar n emocaonegativa',\n",
              "  {'NEGATIVO': True, 'POSITIVO': False}],\n",
              " ['pra o vídeo luísa raiz o poliana infelizmente o twitter tá ruim amanhã postar emocaonegativa asaventurasdepoliana099',\n",
              "  {'NEGATIVO': True, 'POSITIVO': False}],\n",
              " ['to crise abstinência strangers emocaonegativa — tbm :/ to',\n",
              "  {'NEGATIVO': True, 'POSITIVO': False}],\n",
              " ['  esquecer olhar pra pagar o mensalidade turma pro cursar querer emocaonegativa',\n",
              "  {'NEGATIVO': True, 'POSITIVO': False}],\n",
              " ['querer comer doce comer montar hoje emocaonegativa maldição',\n",
              "  {'NEGATIVO': True, 'POSITIVO': False}]]"
            ]
          },
          "metadata": {},
          "execution_count": 56
        }
      ]
    },
    {
      "cell_type": "markdown",
      "metadata": {
        "id": "4tSBu7RIeBg2"
      },
      "source": [
        "# Etapa 5: Criação do classificador"
      ]
    },
    {
      "cell_type": "code",
      "metadata": {
        "id": "VLmAeDTSeYnF"
      },
      "source": [
        "modelo = spacy.blank('pt')\n",
        "categorias = modelo.create_pipe(\"textcat\")\n",
        "categorias.add_label(\"POSITIVO\")\n",
        "categorias.add_label(\"NEGATIVO\")\n",
        "modelo.add_pipe(categorias)\n",
        "historico = []"
      ],
      "execution_count": 57,
      "outputs": []
    },
    {
      "cell_type": "code",
      "metadata": {
        "colab": {
          "base_uri": "https://localhost:8080/"
        },
        "id": "AAK2IZDDeagF",
        "outputId": "4fda64fe-f1cd-46ed-adf8-2743b9d83102"
      },
      "source": [
        "modelo.begin_training()\n",
        "for epoca in range(20):\n",
        "  random.shuffle(base_dados_treinamento_final)\n",
        "  losses = {}\n",
        "  for batch in spacy.util.minibatch(base_dados_treinamento_final, 512):\n",
        "    textos = [modelo(texto) for texto, entities in batch]\n",
        "    annotations = [{'cats': entities} for texto, entities in batch]\n",
        "    modelo.update(textos, annotations, losses=losses)\n",
        "    historico.append(losses)\n",
        "  if epoca % 5 == 0:\n",
        "    print(losses)"
      ],
      "execution_count": 58,
      "outputs": [
        {
          "output_type": "stream",
          "name": "stdout",
          "text": [
            "{'textcat': 1.1573877725934434e-05}\n",
            "{'textcat': 1.838772893155826e-07}\n",
            "{'textcat': 1.1974401556229773e-07}\n",
            "{'textcat': 1.1948330591192349e-07}\n"
          ]
        }
      ]
    },
    {
      "cell_type": "code",
      "metadata": {
        "id": "cZO6iZWSecI9"
      },
      "source": [
        "historico_loss = []\n",
        "for i in historico:\n",
        "  historico_loss.append(i.get('textcat'))"
      ],
      "execution_count": 60,
      "outputs": []
    },
    {
      "cell_type": "code",
      "metadata": {
        "colab": {
          "base_uri": "https://localhost:8080/"
        },
        "id": "hn7TuXk5ed_c",
        "outputId": "d10c8163-b34e-4163-a456-878442c340cf"
      },
      "source": [
        "historico_loss = np.array(historico_loss)\n",
        "historico_loss"
      ],
      "execution_count": 61,
      "outputs": [
        {
          "output_type": "execute_result",
          "data": {
            "text/plain": [
              "array([1.15738777e-05, 1.15738777e-05, 1.15738777e-05, ...,\n",
              "       1.57234854e-07, 1.57234854e-07, 1.57234854e-07])"
            ]
          },
          "metadata": {},
          "execution_count": 61
        }
      ]
    },
    {
      "cell_type": "code",
      "metadata": {
        "colab": {
          "base_uri": "https://localhost:8080/",
          "height": 312
        },
        "id": "xg1ihWxHefmM",
        "outputId": "2271a118-86a8-44a4-9e66-9962767849ce"
      },
      "source": [
        "import matplotlib.pyplot as plt\n",
        "plt.plot(historico_loss)\n",
        "plt.title('Progressão do erro')\n",
        "plt.xlabel('Batches')\n",
        "plt.ylabel('Erro')"
      ],
      "execution_count": 62,
      "outputs": [
        {
          "output_type": "execute_result",
          "data": {
            "text/plain": [
              "Text(0, 0.5, 'Erro')"
            ]
          },
          "metadata": {},
          "execution_count": 62
        },
        {
          "output_type": "display_data",
          "data": {
            "image/png": "[encoded data removed]",
            "text/plain": [
              "<Figure size 432x288 with 1 Axes>"
            ]
          },
          "metadata": {
            "needs_background": "light"
          }
        }
      ]
    },
    {
      "cell_type": "code",
      "metadata": {
        "id": "r9zMusGJehLk"
      },
      "source": [
        "modelo.to_disk(\"modelo\")"
      ],
      "execution_count": 63,
      "outputs": []
    },
    {
      "cell_type": "markdown",
      "metadata": {
        "id": "t_i-mmJHeips"
      },
      "source": [
        "# Etapa 6: Testes com uma frase"
      ]
    },
    {
      "cell_type": "code",
      "metadata": {
        "colab": {
          "base_uri": "https://localhost:8080/"
        },
        "id": "z4BagEhzejYV",
        "outputId": "3c6bd9f0-7a1b-44a3-e5be-08ec54c51eaf"
      },
      "source": [
        "modelo_carregado = spacy.load('modelo')\n",
        "modelo_carregado"
      ],
      "execution_count": 64,
      "outputs": [
        {
          "output_type": "execute_result",
          "data": {
            "text/plain": [
              "<spacy.lang.pt.Portuguese at 0x7ff05096cc90>"
            ]
          },
          "metadata": {},
          "execution_count": 64
        }
      ]
    },
    {
      "cell_type": "markdown",
      "metadata": {
        "id": "_oBtdWg3enmE"
      },
      "source": [
        "## Texto positivo"
      ]
    },
    {
      "cell_type": "code",
      "metadata": {
        "colab": {
          "base_uri": "https://localhost:8080/",
          "height": 35
        },
        "id": "F1SU-bcPepy1",
        "outputId": "8bb86b20-e53e-41a1-8a58-16cbee4025bf"
      },
      "source": [
        "texto_positivo = base_teste['tweet_text'][21]\n",
        "texto_positivo"
      ],
      "execution_count": 65,
      "outputs": [
        {
          "output_type": "execute_result",
          "data": {
            "application/vnd.google.colaboratory.intrinsic+json": {
              "type": "string"
            },
            "text/plain": [
              "'  ficar feliz q recíproco emocaopositiva'"
            ]
          },
          "metadata": {},
          "execution_count": 65
        }
      ]
    },
    {
      "cell_type": "code",
      "metadata": {
        "colab": {
          "base_uri": "https://localhost:8080/"
        },
        "id": "faEl5J1lerSU",
        "outputId": "285af0f8-7ceb-4be0-92a8-3ceaa9dbf0ac"
      },
      "source": [
        "previsao = modelo_carregado(texto_positivo)\n",
        "previsao"
      ],
      "execution_count": 66,
      "outputs": [
        {
          "output_type": "execute_result",
          "data": {
            "text/plain": [
              "  ficar feliz q recíproco emocaopositiva"
            ]
          },
          "metadata": {},
          "execution_count": 66
        }
      ]
    },
    {
      "cell_type": "code",
      "metadata": {
        "colab": {
          "base_uri": "https://localhost:8080/"
        },
        "id": "zGw7CgvResjk",
        "outputId": "13508c3a-55b1-439c-ba9f-09115862dfe7"
      },
      "source": [
        "previsao.cats"
      ],
      "execution_count": 67,
      "outputs": [
        {
          "output_type": "execute_result",
          "data": {
            "text/plain": [
              "{'NEGATIVO': 4.539786823443137e-05, 'POSITIVO': 0.9999545812606812}"
            ]
          },
          "metadata": {},
          "execution_count": 67
        }
      ]
    },
    {
      "cell_type": "code",
      "metadata": {
        "colab": {
          "base_uri": "https://localhost:8080/",
          "height": 35
        },
        "id": "wGDLzpPceuqM",
        "outputId": "e5313629-3d2a-48a0-d0dd-1183c46ae768"
      },
      "source": [
        "texto_positivo = 'eu gosto muito de você'\n",
        "texto_positivo = preprocessamento(texto_positivo)\n",
        "texto_positivo"
      ],
      "execution_count": 68,
      "outputs": [
        {
          "output_type": "execute_result",
          "data": {
            "application/vnd.google.colaboratory.intrinsic+json": {
              "type": "string"
            },
            "text/plain": [
              "'gostar'"
            ]
          },
          "metadata": {},
          "execution_count": 68
        }
      ]
    },
    {
      "cell_type": "code",
      "metadata": {
        "colab": {
          "base_uri": "https://localhost:8080/"
        },
        "id": "V_wi5V62ewMc",
        "outputId": "ab8286fc-364c-4a52-9e76-968814c84cd8"
      },
      "source": [
        "modelo_carregado(texto_positivo).cats"
      ],
      "execution_count": 69,
      "outputs": [
        {
          "output_type": "execute_result",
          "data": {
            "text/plain": [
              "{'NEGATIVO': 0.0035064981784671545, 'POSITIVO': 0.9993093013763428}"
            ]
          },
          "metadata": {},
          "execution_count": 69
        }
      ]
    },
    {
      "cell_type": "markdown",
      "metadata": {
        "id": "pol1zBc1eyAF"
      },
      "source": [
        "## Texto negativo"
      ]
    },
    {
      "cell_type": "code",
      "metadata": {
        "colab": {
          "base_uri": "https://localhost:8080/",
          "height": 35
        },
        "id": "fk9HD86-ezq9",
        "outputId": "a5154c58-af95-46da-8b8e-fe378ae40493"
      },
      "source": [
        "base_teste['tweet_text'][4000]"
      ],
      "execution_count": 70,
      "outputs": [
        {
          "output_type": "execute_result",
          "data": {
            "application/vnd.google.colaboratory.intrinsic+json": {
              "type": "string"
            },
            "text/plain": [
              "'tô triste filmar mulan o mushu emocaonegativa'"
            ]
          },
          "metadata": {},
          "execution_count": 70
        }
      ]
    },
    {
      "cell_type": "code",
      "metadata": {
        "colab": {
          "base_uri": "https://localhost:8080/"
        },
        "id": "tJHIpBbue06k",
        "outputId": "0165d5df-b953-4ab9-97e4-f57edd6dac0e"
      },
      "source": [
        "texto_negativo = base_teste['tweet_text'][4000]\n",
        "previsao = modelo_carregado(texto_negativo)\n",
        "previsao.cats"
      ],
      "execution_count": 71,
      "outputs": [
        {
          "output_type": "execute_result",
          "data": {
            "text/plain": [
              "{'NEGATIVO': 0.9999545812606812, 'POSITIVO': 4.539786823443137e-05}"
            ]
          },
          "metadata": {},
          "execution_count": 71
        }
      ]
    },
    {
      "cell_type": "markdown",
      "metadata": {
        "id": "ie1sqT1Nf8B6"
      },
      "source": [
        "# Etapa 7: Avaliação do modelo"
      ]
    },
    {
      "cell_type": "markdown",
      "metadata": {
        "id": "yTqcOubHf-Jp"
      },
      "source": [
        "## Avaliação na base de treinamento\n"
      ]
    },
    {
      "cell_type": "code",
      "metadata": {
        "id": "b0B7WYYsf_V8"
      },
      "source": [
        "previsoes = []\n",
        "for texto in base_treinamento['tweet_text']:\n",
        "  previsao = modelo_carregado(texto)\n",
        "  previsoes.append(previsao.cats)"
      ],
      "execution_count": 72,
      "outputs": []
    },
    {
      "cell_type": "code",
      "metadata": {
        "colab": {
          "base_uri": "https://localhost:8080/"
        },
        "id": "vFCHj0tjgAsr",
        "outputId": "01d75e66-c5c2-4337-c33b-f2ada3bba9b7"
      },
      "source": [
        "previsoes"
      ],
      "execution_count": 73,
      "outputs": [
        {
          "output_type": "execute_result",
          "data": {
            "text/plain": [
              "[{'NEGATIVO': 4.539786823443137e-05, 'POSITIVO': 0.9999545812606812},\n",
              " {'NEGATIVO': 4.539786823443137e-05, 'POSITIVO': 0.9999545812606812},\n",
              " {'NEGATIVO': 4.539786823443137e-05, 'POSITIVO': 0.9999545812606812},\n",
              " {'NEGATIVO': 4.539786823443137e-05, 'POSITIVO': 0.9999545812606812},\n",
              " {'NEGATIVO': 4.539786823443137e-05, 'POSITIVO': 0.9999545812606812},\n",
              " {'NEGATIVO': 4.539786823443137e-05, 'POSITIVO': 0.9999545812606812},\n",
              " {'NEGATIVO': 4.539786823443137e-05, 'POSITIVO': 0.9999545812606812},\n",
              " {'NEGATIVO': 0.00018372781050857157, 'POSITIVO': 0.9999202489852905},\n",
              " {'NEGATIVO': 4.539786823443137e-05, 'POSITIVO': 0.9999545812606812},\n",
              " {'NEGATIVO': 4.539786823443137e-05, 'POSITIVO': 0.9999545812606812},\n",
              " {'NEGATIVO': 4.539786823443137e-05, 'POSITIVO': 0.9999545812606812},\n",
              " {'NEGATIVO': 4.539786823443137e-05, 'POSITIVO': 0.9999545812606812},\n",
              " {'NEGATIVO': 4.539786823443137e-05, 'POSITIVO': 0.9999545812606812},\n",
              " {'NEGATIVO': 4.539786823443137e-05, 'POSITIVO': 0.9999545812606812},\n",
              " {'NEGATIVO': 4.539786823443137e-05, 'POSITIVO': 0.9999545812606812},\n",
              " {'NEGATIVO': 4.539786823443137e-05, 'POSITIVO': 0.9999545812606812},\n",
              " {'NEGATIVO': 4.539786823443137e-05, 'POSITIVO': 0.9999545812606812},\n",
              " {'NEGATIVO': 4.539786823443137e-05, 'POSITIVO': 0.9999545812606812},\n",
              " {'NEGATIVO': 0.0008022800902836025, 'POSITIVO': 0.9997054934501648},\n",
              " {'NEGATIVO': 4.539786823443137e-05, 'POSITIVO': 0.9999545812606812},\n",
              " {'NEGATIVO': 4.539786823443137e-05, 'POSITIVO': 0.9999545812606812},\n",
              " {'NEGATIVO': 4.539786823443137e-05, 'POSITIVO': 0.9999545812606812},\n",
              " {'NEGATIVO': 4.539786823443137e-05, 'POSITIVO': 0.9999545812606812},\n",
              " {'NEGATIVO': 4.539786823443137e-05, 'POSITIVO': 0.9999545812606812},\n",
              " {'NEGATIVO': 4.539786823443137e-05, 'POSITIVO': 0.9999545812606812},\n",
              " {'NEGATIVO': 4.539786823443137e-05, 'POSITIVO': 0.9999545812606812},\n",
              " {'NEGATIVO': 4.539786823443137e-05, 'POSITIVO': 0.9999545812606812},\n",
              " {'NEGATIVO': 4.539786823443137e-05, 'POSITIVO': 0.9999545812606812},\n",
              " {'NEGATIVO': 4.539786823443137e-05, 'POSITIVO': 0.9999545812606812},\n",
              " {'NEGATIVO': 4.539786823443137e-05, 'POSITIVO': 0.9999545812606812},\n",
              " {'NEGATIVO': 4.539786823443137e-05, 'POSITIVO': 0.9999545812606812},\n",
              " {'NEGATIVO': 4.539786823443137e-05, 'POSITIVO': 0.9999545812606812},\n",
              " {'NEGATIVO': 4.539786823443137e-05, 'POSITIVO': 0.9999545812606812},\n",
              " {'NEGATIVO': 4.539786823443137e-05, 'POSITIVO': 0.9999545812606812},\n",
              " {'NEGATIVO': 4.539786823443137e-05, 'POSITIVO': 0.9999545812606812},\n",
              " {'NEGATIVO': 4.539786823443137e-05, 'POSITIVO': 0.9999545812606812},\n",
              " {'NEGATIVO': 4.539786823443137e-05, 'POSITIVO': 0.9999545812606812},\n",
              " {'NEGATIVO': 4.539786823443137e-05, 'POSITIVO': 0.9999545812606812},\n",
              " {'NEGATIVO': 4.539786823443137e-05, 'POSITIVO': 0.9999545812606812},\n",
              " {'NEGATIVO': 4.539786823443137e-05, 'POSITIVO': 0.9999545812606812},\n",
              " {'NEGATIVO': 4.539786823443137e-05, 'POSITIVO': 0.9999545812606812},\n",
              " {'NEGATIVO': 4.539786823443137e-05, 'POSITIVO': 0.9999545812606812},\n",
              " {'NEGATIVO': 4.539786823443137e-05, 'POSITIVO': 0.9999545812606812},\n",
              " {'NEGATIVO': 4.539786823443137e-05, 'POSITIVO': 0.9999545812606812},\n",
              " {'NEGATIVO': 4.539786823443137e-05, 'POSITIVO': 0.9999545812606812},\n",
              " {'NEGATIVO': 4.539786823443137e-05, 'POSITIVO': 0.9999545812606812},\n",
              " {'NEGATIVO': 4.539786823443137e-05, 'POSITIVO': 0.9999545812606812},\n",
              " {'NEGATIVO': 4.539786823443137e-05, 'POSITIVO': 0.9999545812606812},\n",
              " {'NEGATIVO': 4.539786823443137e-05, 'POSITIVO': 0.9999545812606812},\n",
              " {'NEGATIVO': 4.539786823443137e-05, 'POSITIVO': 0.9999545812606812},\n",
              " {'NEGATIVO': 4.539786823443137e-05, 'POSITIVO': 0.9999545812606812},\n",
              " {'NEGATIVO': 4.539786823443137e-05, 'POSITIVO': 0.9999545812606812},\n",
              " {'NEGATIVO': 4.539786823443137e-05, 'POSITIVO': 0.9999545812606812},\n",
              " {'NEGATIVO': 4.539786823443137e-05, 'POSITIVO': 0.9999545812606812},\n",
              " {'NEGATIVO': 4.539786823443137e-05, 'POSITIVO': 0.9999545812606812},\n",
              " {'NEGATIVO': 4.539786823443137e-05, 'POSITIVO': 0.9999545812606812},\n",
              " {'NEGATIVO': 4.539786823443137e-05, 'POSITIVO': 0.9999545812606812},\n",
              " {'NEGATIVO': 4.539786823443137e-05, 'POSITIVO': 0.9999545812606812},\n",
              " {'NEGATIVO': 4.539786823443137e-05, 'POSITIVO': 0.9999545812606812},\n",
              " {'NEGATIVO': 4.539786823443137e-05, 'POSITIVO': 0.9999545812606812},\n",
              " {'NEGATIVO': 4.539786823443137e-05, 'POSITIVO': 0.9999545812606812},\n",
              " {'NEGATIVO': 4.539786823443137e-05, 'POSITIVO': 0.9999545812606812},\n",
              " {'NEGATIVO': 4.539786823443137e-05, 'POSITIVO': 0.9999545812606812},\n",
              " {'NEGATIVO': 4.539786823443137e-05, 'POSITIVO': 0.9999545812606812},\n",
              " {'NEGATIVO': 0.00020927262085024267, 'POSITIVO': 0.9997997879981995},\n",
              " {'NEGATIVO': 4.539786823443137e-05, 'POSITIVO': 0.9999545812606812},\n",
              " {'NEGATIVO': 4.539786823443137e-05, 'POSITIVO': 0.9999545812606812},\n",
              " {'NEGATIVO': 4.539786823443137e-05, 'POSITIVO': 0.9999545812606812},\n",
              " {'NEGATIVO': 4.539786823443137e-05, 'POSITIVO': 0.9999545812606812},\n",
              " {'NEGATIVO': 4.539786823443137e-05, 'POSITIVO': 0.9999545812606812},\n",
              " {'NEGATIVO': 4.539786823443137e-05, 'POSITIVO': 0.9999545812606812},\n",
              " {'NEGATIVO': 4.539786823443137e-05, 'POSITIVO': 0.9999545812606812},\n",
              " {'NEGATIVO': 9.394402877660468e-05, 'POSITIVO': 0.9999545812606812},\n",
              " {'NEGATIVO': 4.539786823443137e-05, 'POSITIVO': 0.9999545812606812},\n",
              " {'NEGATIVO': 4.539786823443137e-05, 'POSITIVO': 0.9999545812606812},\n",
              " {'NEGATIVO': 4.539786823443137e-05, 'POSITIVO': 0.9999545812606812},\n",
              " {'NEGATIVO': 4.539786823443137e-05, 'POSITIVO': 0.9999545812606812},\n",
              " {'NEGATIVO': 4.539786823443137e-05, 'POSITIVO': 0.9999545812606812},\n",
              " {'NEGATIVO': 4.539786823443137e-05, 'POSITIVO': 0.9999545812606812},\n",
              " {'NEGATIVO': 4.539786823443137e-05, 'POSITIVO': 0.9999545812606812},\n",
              " {'NEGATIVO': 4.539786823443137e-05, 'POSITIVO': 0.9999545812606812},\n",
              " {'NEGATIVO': 4.539786823443137e-05, 'POSITIVO': 0.9999545812606812},\n",
              " {'NEGATIVO': 4.539786823443137e-05, 'POSITIVO': 0.9999545812606812},\n",
              " {'NEGATIVO': 4.539786823443137e-05, 'POSITIVO': 0.9999545812606812},\n",
              " {'NEGATIVO': 4.539786823443137e-05, 'POSITIVO': 0.9999545812606812},\n",
              " {'NEGATIVO': 4.539786823443137e-05, 'POSITIVO': 0.9999545812606812},\n",
              " {'NEGATIVO': 4.539786823443137e-05, 'POSITIVO': 0.9999545812606812},\n",
              " {'NEGATIVO': 0.0007602597470395267, 'POSITIVO': 0.9998427629470825},\n",
              " {'NEGATIVO': 4.539786823443137e-05, 'POSITIVO': 0.9999545812606812},\n",
              " {'NEGATIVO': 4.539786823443137e-05, 'POSITIVO': 0.9999545812606812},\n",
              " {'NEGATIVO': 4.539786823443137e-05, 'POSITIVO': 0.9999545812606812},\n",
              " {'NEGATIVO': 4.539786823443137e-05, 'POSITIVO': 0.9999545812606812},\n",
              " {'NEGATIVO': 4.539786823443137e-05, 'POSITIVO': 0.9999545812606812},\n",
              " {'NEGATIVO': 4.539786823443137e-05, 'POSITIVO': 0.9999545812606812},\n",
              " {'NEGATIVO': 4.539786823443137e-05, 'POSITIVO': 0.9999545812606812},\n",
              " {'NEGATIVO': 4.539786823443137e-05, 'POSITIVO': 0.9999545812606812},\n",
              " {'NEGATIVO': 0.00014259194722399116, 'POSITIVO': 0.9998944997787476},\n",
              " {'NEGATIVO': 6.114409188739955e-05, 'POSITIVO': 0.9999545812606812},\n",
              " {'NEGATIVO': 4.539786823443137e-05, 'POSITIVO': 0.9999545812606812},\n",
              " {'NEGATIVO': 4.539786823443137e-05, 'POSITIVO': 0.9999545812606812},\n",
              " {'NEGATIVO': 4.539786823443137e-05, 'POSITIVO': 0.9999545812606812},\n",
              " {'NEGATIVO': 4.539786823443137e-05, 'POSITIVO': 0.9999545812606812},\n",
              " {'NEGATIVO': 4.539786823443137e-05, 'POSITIVO': 0.9999545812606812},\n",
              " {'NEGATIVO': 4.539786823443137e-05, 'POSITIVO': 0.9999545812606812},\n",
              " {'NEGATIVO': 4.539786823443137e-05, 'POSITIVO': 0.9999545812606812},\n",
              " {'NEGATIVO': 4.539786823443137e-05, 'POSITIVO': 0.9999545812606812},\n",
              " {'NEGATIVO': 4.539786823443137e-05, 'POSITIVO': 0.9999545812606812},\n",
              " {'NEGATIVO': 4.539786823443137e-05, 'POSITIVO': 0.9999545812606812},\n",
              " {'NEGATIVO': 4.539786823443137e-05, 'POSITIVO': 0.9999545812606812},\n",
              " {'NEGATIVO': 4.539786823443137e-05, 'POSITIVO': 0.9999545812606812},\n",
              " {'NEGATIVO': 4.539786823443137e-05, 'POSITIVO': 0.9999545812606812},\n",
              " {'NEGATIVO': 0.000571015989407897, 'POSITIVO': 0.9996815919876099},\n",
              " {'NEGATIVO': 4.539786823443137e-05, 'POSITIVO': 0.9999545812606812},\n",
              " {'NEGATIVO': 4.539786823443137e-05, 'POSITIVO': 0.9999545812606812},\n",
              " {'NEGATIVO': 4.539786823443137e-05, 'POSITIVO': 0.9999545812606812},\n",
              " {'NEGATIVO': 4.539786823443137e-05, 'POSITIVO': 0.9999545812606812},\n",
              " {'NEGATIVO': 4.539786823443137e-05, 'POSITIVO': 0.9999545812606812},\n",
              " {'NEGATIVO': 4.539786823443137e-05, 'POSITIVO': 0.9999545812606812},\n",
              " {'NEGATIVO': 4.539786823443137e-05, 'POSITIVO': 0.9999545812606812},\n",
              " {'NEGATIVO': 4.539786823443137e-05, 'POSITIVO': 0.9999545812606812},\n",
              " {'NEGATIVO': 4.539786823443137e-05, 'POSITIVO': 0.9999545812606812},\n",
              " {'NEGATIVO': 4.539786823443137e-05, 'POSITIVO': 0.9999545812606812},\n",
              " {'NEGATIVO': 4.539786823443137e-05, 'POSITIVO': 0.9999545812606812},\n",
              " {'NEGATIVO': 4.539786823443137e-05, 'POSITIVO': 0.9999545812606812},\n",
              " {'NEGATIVO': 0.002022126456722617, 'POSITIVO': 0.9981505274772644},\n",
              " {'NEGATIVO': 4.539786823443137e-05, 'POSITIVO': 0.9999545812606812},\n",
              " {'NEGATIVO': 4.539786823443137e-05, 'POSITIVO': 0.9999545812606812},\n",
              " {'NEGATIVO': 4.539786823443137e-05, 'POSITIVO': 0.9999545812606812},\n",
              " {'NEGATIVO': 4.539786823443137e-05, 'POSITIVO': 0.9999545812606812},\n",
              " {'NEGATIVO': 4.539786823443137e-05, 'POSITIVO': 0.9999545812606812},\n",
              " {'NEGATIVO': 4.539786823443137e-05, 'POSITIVO': 0.9999545812606812},\n",
              " {'NEGATIVO': 4.539786823443137e-05, 'POSITIVO': 0.9999545812606812},\n",
              " {'NEGATIVO': 4.539786823443137e-05, 'POSITIVO': 0.9999545812606812},\n",
              " {'NEGATIVO': 4.539786823443137e-05, 'POSITIVO': 0.9999545812606812},\n",
              " {'NEGATIVO': 4.539786823443137e-05, 'POSITIVO': 0.9999545812606812},\n",
              " {'NEGATIVO': 4.539786823443137e-05, 'POSITIVO': 0.9999545812606812},\n",
              " {'NEGATIVO': 4.539786823443137e-05, 'POSITIVO': 0.9999545812606812},\n",
              " {'NEGATIVO': 4.539786823443137e-05, 'POSITIVO': 0.9999545812606812},\n",
              " {'NEGATIVO': 4.539786823443137e-05, 'POSITIVO': 0.9999545812606812},\n",
              " {'NEGATIVO': 4.539786823443137e-05, 'POSITIVO': 0.9999545812606812},\n",
              " {'NEGATIVO': 4.539786823443137e-05, 'POSITIVO': 0.9999545812606812},\n",
              " {'NEGATIVO': 4.539786823443137e-05, 'POSITIVO': 0.9999545812606812},\n",
              " {'NEGATIVO': 4.539786823443137e-05, 'POSITIVO': 0.9999545812606812},\n",
              " {'NEGATIVO': 4.539786823443137e-05, 'POSITIVO': 0.9999545812606812},\n",
              " {'NEGATIVO': 4.539786823443137e-05, 'POSITIVO': 0.9999545812606812},\n",
              " {'NEGATIVO': 4.539786823443137e-05, 'POSITIVO': 0.9999545812606812},\n",
              " {'NEGATIVO': 4.539786823443137e-05, 'POSITIVO': 0.9999545812606812},\n",
              " {'NEGATIVO': 4.539786823443137e-05, 'POSITIVO': 0.9999545812606812},\n",
              " {'NEGATIVO': 4.539786823443137e-05, 'POSITIVO': 0.9999545812606812},\n",
              " {'NEGATIVO': 4.539786823443137e-05, 'POSITIVO': 0.9999545812606812},\n",
              " {'NEGATIVO': 4.539786823443137e-05, 'POSITIVO': 0.9999545812606812},\n",
              " {'NEGATIVO': 4.539786823443137e-05, 'POSITIVO': 0.9999545812606812},\n",
              " {'NEGATIVO': 4.539786823443137e-05, 'POSITIVO': 0.9999545812606812},\n",
              " {'NEGATIVO': 4.539786823443137e-05, 'POSITIVO': 0.9999545812606812},\n",
              " {'NEGATIVO': 4.539786823443137e-05, 'POSITIVO': 0.9999545812606812},\n",
              " {'NEGATIVO': 4.539786823443137e-05, 'POSITIVO': 0.9999545812606812},\n",
              " {'NEGATIVO': 0.0006718801450915635, 'POSITIVO': 0.9998410940170288},\n",
              " {'NEGATIVO': 4.539786823443137e-05, 'POSITIVO': 0.9999545812606812},\n",
              " {'NEGATIVO': 0.0011821503285318613, 'POSITIVO': 0.9995740056037903},\n",
              " {'NEGATIVO': 4.539786823443137e-05, 'POSITIVO': 0.9999545812606812},\n",
              " {'NEGATIVO': 4.539786823443137e-05, 'POSITIVO': 0.9999545812606812},\n",
              " {'NEGATIVO': 4.539786823443137e-05, 'POSITIVO': 0.9999545812606812},\n",
              " {'NEGATIVO': 4.539786823443137e-05, 'POSITIVO': 0.9999545812606812},\n",
              " {'NEGATIVO': 4.539786823443137e-05, 'POSITIVO': 0.9999545812606812},\n",
              " {'NEGATIVO': 4.539786823443137e-05, 'POSITIVO': 0.9999545812606812},\n",
              " {'NEGATIVO': 4.539786823443137e-05, 'POSITIVO': 0.9999545812606812},\n",
              " {'NEGATIVO': 4.539786823443137e-05, 'POSITIVO': 0.9999545812606812},\n",
              " {'NEGATIVO': 4.539786823443137e-05, 'POSITIVO': 0.9999545812606812},\n",
              " {'NEGATIVO': 4.539786823443137e-05, 'POSITIVO': 0.9999545812606812},\n",
              " {'NEGATIVO': 4.539786823443137e-05, 'POSITIVO': 0.9999545812606812},\n",
              " {'NEGATIVO': 4.539786823443137e-05, 'POSITIVO': 0.9999545812606812},\n",
              " {'NEGATIVO': 4.539786823443137e-05, 'POSITIVO': 0.9999545812606812},\n",
              " {'NEGATIVO': 4.539786823443137e-05, 'POSITIVO': 0.9999545812606812},\n",
              " {'NEGATIVO': 4.539786823443137e-05, 'POSITIVO': 0.9999545812606812},\n",
              " {'NEGATIVO': 4.539786823443137e-05, 'POSITIVO': 0.9999545812606812},\n",
              " {'NEGATIVO': 4.539786823443137e-05, 'POSITIVO': 0.9999545812606812},\n",
              " {'NEGATIVO': 4.539786823443137e-05, 'POSITIVO': 0.9999545812606812},\n",
              " {'NEGATIVO': 6.34015814284794e-05, 'POSITIVO': 0.9999545812606812},\n",
              " {'NEGATIVO': 4.539786823443137e-05, 'POSITIVO': 0.9999545812606812},\n",
              " {'NEGATIVO': 4.539786823443137e-05, 'POSITIVO': 0.9999545812606812},\n",
              " {'NEGATIVO': 4.539786823443137e-05, 'POSITIVO': 0.9999545812606812},\n",
              " {'NEGATIVO': 4.539786823443137e-05, 'POSITIVO': 0.9999545812606812},\n",
              " {'NEGATIVO': 4.539786823443137e-05, 'POSITIVO': 0.9999545812606812},\n",
              " {'NEGATIVO': 4.539786823443137e-05, 'POSITIVO': 0.9999545812606812},\n",
              " {'NEGATIVO': 4.539786823443137e-05, 'POSITIVO': 0.9999545812606812},\n",
              " {'NEGATIVO': 4.539786823443137e-05, 'POSITIVO': 0.9999545812606812},\n",
              " {'NEGATIVO': 4.539786823443137e-05, 'POSITIVO': 0.9999545812606812},\n",
              " {'NEGATIVO': 4.539786823443137e-05, 'POSITIVO': 0.9999545812606812},\n",
              " {'NEGATIVO': 4.539786823443137e-05, 'POSITIVO': 0.9999545812606812},\n",
              " {'NEGATIVO': 6.268879224080592e-05, 'POSITIVO': 0.9999250173568726},\n",
              " {'NEGATIVO': 4.539786823443137e-05, 'POSITIVO': 0.9999545812606812},\n",
              " {'NEGATIVO': 4.539786823443137e-05, 'POSITIVO': 0.9999545812606812},\n",
              " {'NEGATIVO': 4.539786823443137e-05, 'POSITIVO': 0.9999545812606812},\n",
              " {'NEGATIVO': 4.539786823443137e-05, 'POSITIVO': 0.9999545812606812},\n",
              " {'NEGATIVO': 4.539786823443137e-05, 'POSITIVO': 0.9999545812606812},\n",
              " {'NEGATIVO': 4.539786823443137e-05, 'POSITIVO': 0.9999545812606812},\n",
              " {'NEGATIVO': 4.539786823443137e-05, 'POSITIVO': 0.9999545812606812},\n",
              " {'NEGATIVO': 4.539786823443137e-05, 'POSITIVO': 0.9999545812606812},\n",
              " {'NEGATIVO': 4.539786823443137e-05, 'POSITIVO': 0.9999545812606812},\n",
              " {'NEGATIVO': 4.539786823443137e-05, 'POSITIVO': 0.9999545812606812},\n",
              " {'NEGATIVO': 4.539786823443137e-05, 'POSITIVO': 0.9999545812606812},\n",
              " {'NEGATIVO': 0.00028210398158989847, 'POSITIVO': 0.9999279975891113},\n",
              " {'NEGATIVO': 4.539786823443137e-05, 'POSITIVO': 0.9999545812606812},\n",
              " {'NEGATIVO': 4.539786823443137e-05, 'POSITIVO': 0.9999545812606812},\n",
              " {'NEGATIVO': 4.539786823443137e-05, 'POSITIVO': 0.9999545812606812},\n",
              " {'NEGATIVO': 4.539786823443137e-05, 'POSITIVO': 0.9999545812606812},\n",
              " {'NEGATIVO': 4.539786823443137e-05, 'POSITIVO': 0.9999545812606812},\n",
              " {'NEGATIVO': 4.539786823443137e-05, 'POSITIVO': 0.9999545812606812},\n",
              " {'NEGATIVO': 4.539786823443137e-05, 'POSITIVO': 0.9999545812606812},\n",
              " {'NEGATIVO': 4.539786823443137e-05, 'POSITIVO': 0.9999545812606812},\n",
              " {'NEGATIVO': 4.539786823443137e-05, 'POSITIVO': 0.9999545812606812},\n",
              " {'NEGATIVO': 9.231366857420653e-05, 'POSITIVO': 0.9999545812606812},\n",
              " {'NEGATIVO': 4.539786823443137e-05, 'POSITIVO': 0.9999545812606812},\n",
              " {'NEGATIVO': 4.539786823443137e-05, 'POSITIVO': 0.9999545812606812},\n",
              " {'NEGATIVO': 4.539786823443137e-05, 'POSITIVO': 0.9999545812606812},\n",
              " {'NEGATIVO': 4.539786823443137e-05, 'POSITIVO': 0.9999545812606812},\n",
              " {'NEGATIVO': 4.539786823443137e-05, 'POSITIVO': 0.9999545812606812},\n",
              " {'NEGATIVO': 4.539786823443137e-05, 'POSITIVO': 0.9999545812606812},\n",
              " {'NEGATIVO': 0.0008653125260025263, 'POSITIVO': 0.9981024861335754},\n",
              " {'NEGATIVO': 4.539786823443137e-05, 'POSITIVO': 0.9999545812606812},\n",
              " {'NEGATIVO': 4.539786823443137e-05, 'POSITIVO': 0.9999545812606812},\n",
              " {'NEGATIVO': 4.539786823443137e-05, 'POSITIVO': 0.9999545812606812},\n",
              " {'NEGATIVO': 4.539786823443137e-05, 'POSITIVO': 0.9999545812606812},\n",
              " {'NEGATIVO': 4.539786823443137e-05, 'POSITIVO': 0.9999545812606812},\n",
              " {'NEGATIVO': 4.539786823443137e-05, 'POSITIVO': 0.9999545812606812},\n",
              " {'NEGATIVO': 4.539786823443137e-05, 'POSITIVO': 0.9999545812606812},\n",
              " {'NEGATIVO': 4.539786823443137e-05, 'POSITIVO': 0.9999545812606812},\n",
              " {'NEGATIVO': 4.539786823443137e-05, 'POSITIVO': 0.9999545812606812},\n",
              " {'NEGATIVO': 4.539786823443137e-05, 'POSITIVO': 0.9999545812606812},\n",
              " {'NEGATIVO': 4.539786823443137e-05, 'POSITIVO': 0.9999545812606812},\n",
              " {'NEGATIVO': 4.539786823443137e-05, 'POSITIVO': 0.9999545812606812},\n",
              " {'NEGATIVO': 4.539786823443137e-05, 'POSITIVO': 0.9999545812606812},\n",
              " {'NEGATIVO': 4.539786823443137e-05, 'POSITIVO': 0.9999545812606812},\n",
              " {'NEGATIVO': 4.539786823443137e-05, 'POSITIVO': 0.9999545812606812},\n",
              " {'NEGATIVO': 4.539786823443137e-05, 'POSITIVO': 0.9999545812606812},\n",
              " {'NEGATIVO': 4.539786823443137e-05, 'POSITIVO': 0.9999545812606812},\n",
              " {'NEGATIVO': 4.539786823443137e-05, 'POSITIVO': 0.9999545812606812},\n",
              " {'NEGATIVO': 4.539786823443137e-05, 'POSITIVO': 0.9999545812606812},\n",
              " {'NEGATIVO': 4.539786823443137e-05, 'POSITIVO': 0.9999545812606812},\n",
              " {'NEGATIVO': 5.0800903409253806e-05, 'POSITIVO': 0.9999109506607056},\n",
              " {'NEGATIVO': 4.539786823443137e-05, 'POSITIVO': 0.9999545812606812},\n",
              " {'NEGATIVO': 4.539786823443137e-05, 'POSITIVO': 0.9999545812606812},\n",
              " {'NEGATIVO': 4.539786823443137e-05, 'POSITIVO': 0.9999545812606812},\n",
              " {'NEGATIVO': 4.539786823443137e-05, 'POSITIVO': 0.9999545812606812},\n",
              " {'NEGATIVO': 4.539786823443137e-05, 'POSITIVO': 0.9999545812606812},\n",
              " {'NEGATIVO': 4.539786823443137e-05, 'POSITIVO': 0.9999545812606812},\n",
              " {'NEGATIVO': 4.539786823443137e-05, 'POSITIVO': 0.9999545812606812},\n",
              " {'NEGATIVO': 4.539786823443137e-05, 'POSITIVO': 0.9999545812606812},\n",
              " {'NEGATIVO': 4.539786823443137e-05, 'POSITIVO': 0.9999545812606812},\n",
              " {'NEGATIVO': 4.539786823443137e-05, 'POSITIVO': 0.9999545812606812},\n",
              " {'NEGATIVO': 4.539786823443137e-05, 'POSITIVO': 0.9999545812606812},\n",
              " {'NEGATIVO': 4.539786823443137e-05, 'POSITIVO': 0.9999545812606812},\n",
              " {'NEGATIVO': 4.539786823443137e-05, 'POSITIVO': 0.9999545812606812},\n",
              " {'NEGATIVO': 4.539786823443137e-05, 'POSITIVO': 0.9999545812606812},\n",
              " {'NEGATIVO': 4.539786823443137e-05, 'POSITIVO': 0.9999545812606812},\n",
              " {'NEGATIVO': 4.539786823443137e-05, 'POSITIVO': 0.9999545812606812},\n",
              " {'NEGATIVO': 4.539786823443137e-05, 'POSITIVO': 0.9999545812606812},\n",
              " {'NEGATIVO': 4.539786823443137e-05, 'POSITIVO': 0.9999545812606812},\n",
              " {'NEGATIVO': 4.539786823443137e-05, 'POSITIVO': 0.9999545812606812},\n",
              " {'NEGATIVO': 4.539786823443137e-05, 'POSITIVO': 0.9999545812606812},\n",
              " {'NEGATIVO': 0.00012105712812626734, 'POSITIVO': 0.9999545812606812},\n",
              " {'NEGATIVO': 4.539786823443137e-05, 'POSITIVO': 0.9999545812606812},\n",
              " {'NEGATIVO': 4.539786823443137e-05, 'POSITIVO': 0.9999545812606812},\n",
              " {'NEGATIVO': 4.539786823443137e-05, 'POSITIVO': 0.9999545812606812},\n",
              " {'NEGATIVO': 4.539786823443137e-05, 'POSITIVO': 0.9999545812606812},\n",
              " {'NEGATIVO': 4.539786823443137e-05, 'POSITIVO': 0.9999545812606812},\n",
              " {'NEGATIVO': 4.539786823443137e-05, 'POSITIVO': 0.9999545812606812},\n",
              " {'NEGATIVO': 4.539786823443137e-05, 'POSITIVO': 0.9999545812606812},\n",
              " {'NEGATIVO': 4.539786823443137e-05, 'POSITIVO': 0.9999545812606812},\n",
              " {'NEGATIVO': 4.539786823443137e-05, 'POSITIVO': 0.9999545812606812},\n",
              " {'NEGATIVO': 4.539786823443137e-05, 'POSITIVO': 0.9999545812606812},\n",
              " {'NEGATIVO': 4.539786823443137e-05, 'POSITIVO': 0.9999545812606812},\n",
              " {'NEGATIVO': 4.539786823443137e-05, 'POSITIVO': 0.9999545812606812},\n",
              " {'NEGATIVO': 4.539786823443137e-05, 'POSITIVO': 0.9999545812606812},\n",
              " {'NEGATIVO': 4.539786823443137e-05, 'POSITIVO': 0.9999545812606812},\n",
              " {'NEGATIVO': 4.539786823443137e-05, 'POSITIVO': 0.9999545812606812},\n",
              " {'NEGATIVO': 4.539786823443137e-05, 'POSITIVO': 0.9999545812606812},\n",
              " {'NEGATIVO': 4.539786823443137e-05, 'POSITIVO': 0.9999545812606812},\n",
              " {'NEGATIVO': 4.539786823443137e-05, 'POSITIVO': 0.9999545812606812},\n",
              " {'NEGATIVO': 0.00013273174408823252, 'POSITIVO': 0.9998027682304382},\n",
              " {'NEGATIVO': 4.539786823443137e-05, 'POSITIVO': 0.9999545812606812},\n",
              " {'NEGATIVO': 4.539786823443137e-05, 'POSITIVO': 0.9999545812606812},\n",
              " {'NEGATIVO': 4.539786823443137e-05, 'POSITIVO': 0.9999545812606812},\n",
              " {'NEGATIVO': 4.539786823443137e-05, 'POSITIVO': 0.9999545812606812},\n",
              " {'NEGATIVO': 4.539786823443137e-05, 'POSITIVO': 0.9999545812606812},\n",
              " {'NEGATIVO': 0.00017991337517742068, 'POSITIVO': 0.9999192953109741},\n",
              " {'NEGATIVO': 4.539786823443137e-05, 'POSITIVO': 0.9999545812606812},\n",
              " {'NEGATIVO': 4.539786823443137e-05, 'POSITIVO': 0.9999545812606812},\n",
              " {'NEGATIVO': 4.539786823443137e-05, 'POSITIVO': 0.9999545812606812},\n",
              " {'NEGATIVO': 4.539786823443137e-05, 'POSITIVO': 0.9999545812606812},\n",
              " {'NEGATIVO': 4.539786823443137e-05, 'POSITIVO': 0.9999545812606812},\n",
              " {'NEGATIVO': 4.539786823443137e-05, 'POSITIVO': 0.9999545812606812},\n",
              " {'NEGATIVO': 4.539786823443137e-05, 'POSITIVO': 0.9999545812606812},\n",
              " {'NEGATIVO': 4.539786823443137e-05, 'POSITIVO': 0.9999545812606812},\n",
              " {'NEGATIVO': 4.539786823443137e-05, 'POSITIVO': 0.9999545812606812},\n",
              " {'NEGATIVO': 0.00024424633011221886, 'POSITIVO': 0.9998290538787842},\n",
              " {'NEGATIVO': 0.0003553848946467042, 'POSITIVO': 0.9996820688247681},\n",
              " {'NEGATIVO': 4.539786823443137e-05, 'POSITIVO': 0.9999545812606812},\n",
              " {'NEGATIVO': 4.539786823443137e-05, 'POSITIVO': 0.9999545812606812},\n",
              " {'NEGATIVO': 4.539786823443137e-05, 'POSITIVO': 0.9999545812606812},\n",
              " {'NEGATIVO': 4.539786823443137e-05, 'POSITIVO': 0.9999545812606812},\n",
              " {'NEGATIVO': 4.539786823443137e-05, 'POSITIVO': 0.9999545812606812},\n",
              " {'NEGATIVO': 4.539786823443137e-05, 'POSITIVO': 0.9999545812606812},\n",
              " {'NEGATIVO': 4.539786823443137e-05, 'POSITIVO': 0.9999545812606812},\n",
              " {'NEGATIVO': 4.539786823443137e-05, 'POSITIVO': 0.9999545812606812},\n",
              " {'NEGATIVO': 4.539786823443137e-05, 'POSITIVO': 0.9999545812606812},\n",
              " {'NEGATIVO': 4.539786823443137e-05, 'POSITIVO': 0.9999545812606812},\n",
              " {'NEGATIVO': 4.539786823443137e-05, 'POSITIVO': 0.9999545812606812},\n",
              " {'NEGATIVO': 4.539786823443137e-05, 'POSITIVO': 0.9999545812606812},\n",
              " {'NEGATIVO': 4.539786823443137e-05, 'POSITIVO': 0.9999545812606812},\n",
              " {'NEGATIVO': 4.539786823443137e-05, 'POSITIVO': 0.9999545812606812},\n",
              " {'NEGATIVO': 4.539786823443137e-05, 'POSITIVO': 0.9999545812606812},\n",
              " {'NEGATIVO': 4.539786823443137e-05, 'POSITIVO': 0.9999545812606812},\n",
              " {'NEGATIVO': 4.539786823443137e-05, 'POSITIVO': 0.9999545812606812},\n",
              " {'NEGATIVO': 4.539786823443137e-05, 'POSITIVO': 0.9999545812606812},\n",
              " {'NEGATIVO': 4.539786823443137e-05, 'POSITIVO': 0.9999545812606812},\n",
              " {'NEGATIVO': 4.539786823443137e-05, 'POSITIVO': 0.9999545812606812},\n",
              " {'NEGATIVO': 6.1017988628009334e-05, 'POSITIVO': 0.9998797178268433},\n",
              " {'NEGATIVO': 4.539786823443137e-05, 'POSITIVO': 0.9999545812606812},\n",
              " {'NEGATIVO': 4.539786823443137e-05, 'POSITIVO': 0.9999545812606812},\n",
              " {'NEGATIVO': 4.539786823443137e-05, 'POSITIVO': 0.9999545812606812},\n",
              " {'NEGATIVO': 4.539786823443137e-05, 'POSITIVO': 0.9999545812606812},\n",
              " {'NEGATIVO': 4.539786823443137e-05, 'POSITIVO': 0.9999545812606812},\n",
              " {'NEGATIVO': 4.539786823443137e-05, 'POSITIVO': 0.9999545812606812},\n",
              " {'NEGATIVO': 4.539786823443137e-05, 'POSITIVO': 0.9999545812606812},\n",
              " {'NEGATIVO': 4.539786823443137e-05, 'POSITIVO': 0.9999545812606812},\n",
              " {'NEGATIVO': 4.539786823443137e-05, 'POSITIVO': 0.9999545812606812},\n",
              " {'NEGATIVO': 4.539786823443137e-05, 'POSITIVO': 0.9999545812606812},\n",
              " {'NEGATIVO': 4.539786823443137e-05, 'POSITIVO': 0.9999545812606812},\n",
              " {'NEGATIVO': 4.539786823443137e-05, 'POSITIVO': 0.9999545812606812},\n",
              " {'NEGATIVO': 4.539786823443137e-05, 'POSITIVO': 0.9999545812606812},\n",
              " {'NEGATIVO': 4.539786823443137e-05, 'POSITIVO': 0.9999545812606812},\n",
              " {'NEGATIVO': 4.539786823443137e-05, 'POSITIVO': 0.9999545812606812},\n",
              " {'NEGATIVO': 4.539786823443137e-05, 'POSITIVO': 0.9999545812606812},\n",
              " {'NEGATIVO': 4.539786823443137e-05, 'POSITIVO': 0.9999545812606812},\n",
              " {'NEGATIVO': 4.539786823443137e-05, 'POSITIVO': 0.9999545812606812},\n",
              " {'NEGATIVO': 4.539786823443137e-05, 'POSITIVO': 0.9999545812606812},\n",
              " {'NEGATIVO': 4.539786823443137e-05, 'POSITIVO': 0.9999545812606812},\n",
              " {'NEGATIVO': 4.539786823443137e-05, 'POSITIVO': 0.9999545812606812},\n",
              " {'NEGATIVO': 4.539786823443137e-05, 'POSITIVO': 0.9999545812606812},\n",
              " {'NEGATIVO': 4.539786823443137e-05, 'POSITIVO': 0.9999545812606812},\n",
              " {'NEGATIVO': 4.539786823443137e-05, 'POSITIVO': 0.9999545812606812},\n",
              " {'NEGATIVO': 4.539786823443137e-05, 'POSITIVO': 0.9999545812606812},\n",
              " {'NEGATIVO': 4.539786823443137e-05, 'POSITIVO': 0.9999545812606812},\n",
              " {'NEGATIVO': 4.539786823443137e-05, 'POSITIVO': 0.9999545812606812},\n",
              " {'NEGATIVO': 4.539786823443137e-05, 'POSITIVO': 0.9999545812606812},\n",
              " {'NEGATIVO': 4.539786823443137e-05, 'POSITIVO': 0.9999545812606812},\n",
              " {'NEGATIVO': 4.539786823443137e-05, 'POSITIVO': 0.9999545812606812},\n",
              " {'NEGATIVO': 4.539786823443137e-05, 'POSITIVO': 0.9999545812606812},\n",
              " {'NEGATIVO': 4.539786823443137e-05, 'POSITIVO': 0.9999545812606812},\n",
              " {'NEGATIVO': 4.539786823443137e-05, 'POSITIVO': 0.9999545812606812},\n",
              " {'NEGATIVO': 4.539786823443137e-05, 'POSITIVO': 0.9999545812606812},\n",
              " {'NEGATIVO': 8.209293446270749e-05, 'POSITIVO': 0.9999545812606812},\n",
              " {'NEGATIVO': 4.539786823443137e-05, 'POSITIVO': 0.9999545812606812},\n",
              " {'NEGATIVO': 4.539786823443137e-05, 'POSITIVO': 0.9999545812606812},\n",
              " {'NEGATIVO': 9.338134259451181e-05, 'POSITIVO': 0.9999511241912842},\n",
              " {'NEGATIVO': 4.539786823443137e-05, 'POSITIVO': 0.9999545812606812},\n",
              " {'NEGATIVO': 4.539786823443137e-05, 'POSITIVO': 0.9999545812606812},\n",
              " {'NEGATIVO': 4.539786823443137e-05, 'POSITIVO': 0.9999545812606812},\n",
              " {'NEGATIVO': 4.539786823443137e-05, 'POSITIVO': 0.9999545812606812},\n",
              " {'NEGATIVO': 4.539786823443137e-05, 'POSITIVO': 0.9999545812606812},\n",
              " {'NEGATIVO': 4.539786823443137e-05, 'POSITIVO': 0.9999545812606812},\n",
              " {'NEGATIVO': 4.539786823443137e-05, 'POSITIVO': 0.9999545812606812},\n",
              " {'NEGATIVO': 4.539786823443137e-05, 'POSITIVO': 0.9999545812606812},\n",
              " {'NEGATIVO': 4.539786823443137e-05, 'POSITIVO': 0.9999545812606812},\n",
              " {'NEGATIVO': 4.539786823443137e-05, 'POSITIVO': 0.9999545812606812},\n",
              " {'NEGATIVO': 4.539786823443137e-05, 'POSITIVO': 0.9999545812606812},\n",
              " {'NEGATIVO': 4.539786823443137e-05, 'POSITIVO': 0.9999545812606812},\n",
              " {'NEGATIVO': 4.539786823443137e-05, 'POSITIVO': 0.9999545812606812},\n",
              " {'NEGATIVO': 6.0261041653575376e-05, 'POSITIVO': 0.9999545812606812},\n",
              " {'NEGATIVO': 4.539786823443137e-05, 'POSITIVO': 0.9999545812606812},\n",
              " {'NEGATIVO': 4.539786823443137e-05, 'POSITIVO': 0.9999545812606812},\n",
              " {'NEGATIVO': 4.539786823443137e-05, 'POSITIVO': 0.9999545812606812},\n",
              " {'NEGATIVO': 4.539786823443137e-05, 'POSITIVO': 0.9999545812606812},\n",
              " {'NEGATIVO': 4.539786823443137e-05, 'POSITIVO': 0.9999545812606812},\n",
              " {'NEGATIVO': 4.539786823443137e-05, 'POSITIVO': 0.9999545812606812},\n",
              " {'NEGATIVO': 4.539786823443137e-05, 'POSITIVO': 0.9999545812606812},\n",
              " {'NEGATIVO': 4.539786823443137e-05, 'POSITIVO': 0.9999545812606812},\n",
              " {'NEGATIVO': 4.539786823443137e-05, 'POSITIVO': 0.9999545812606812},\n",
              " {'NEGATIVO': 4.539786823443137e-05, 'POSITIVO': 0.9999545812606812},\n",
              " {'NEGATIVO': 4.539786823443137e-05, 'POSITIVO': 0.9999545812606812},\n",
              " {'NEGATIVO': 4.539786823443137e-05, 'POSITIVO': 0.9999545812606812},\n",
              " {'NEGATIVO': 4.539786823443137e-05, 'POSITIVO': 0.9999545812606812},\n",
              " {'NEGATIVO': 4.539786823443137e-05, 'POSITIVO': 0.9999545812606812},\n",
              " {'NEGATIVO': 4.539786823443137e-05, 'POSITIVO': 0.9999545812606812},\n",
              " {'NEGATIVO': 4.539786823443137e-05, 'POSITIVO': 0.9999545812606812},\n",
              " {'NEGATIVO': 4.539786823443137e-05, 'POSITIVO': 0.9999545812606812},\n",
              " {'NEGATIVO': 4.539786823443137e-05, 'POSITIVO': 0.9999545812606812},\n",
              " {'NEGATIVO': 4.539786823443137e-05, 'POSITIVO': 0.9999545812606812},\n",
              " {'NEGATIVO': 4.539786823443137e-05, 'POSITIVO': 0.9999545812606812},\n",
              " {'NEGATIVO': 4.539786823443137e-05, 'POSITIVO': 0.9999545812606812},\n",
              " {'NEGATIVO': 4.539786823443137e-05, 'POSITIVO': 0.9999545812606812},\n",
              " {'NEGATIVO': 4.539786823443137e-05, 'POSITIVO': 0.9999545812606812},\n",
              " {'NEGATIVO': 4.539786823443137e-05, 'POSITIVO': 0.9999545812606812},\n",
              " {'NEGATIVO': 4.539786823443137e-05, 'POSITIVO': 0.9999545812606812},\n",
              " {'NEGATIVO': 4.539786823443137e-05, 'POSITIVO': 0.9999545812606812},\n",
              " {'NEGATIVO': 0.0001302797900279984, 'POSITIVO': 0.9999260902404785},\n",
              " {'NEGATIVO': 4.539786823443137e-05, 'POSITIVO': 0.9999545812606812},\n",
              " {'NEGATIVO': 4.539786823443137e-05, 'POSITIVO': 0.9999545812606812},\n",
              " {'NEGATIVO': 4.539786823443137e-05, 'POSITIVO': 0.9999545812606812},\n",
              " {'NEGATIVO': 4.539786823443137e-05, 'POSITIVO': 0.9999545812606812},\n",
              " {'NEGATIVO': 4.539786823443137e-05, 'POSITIVO': 0.9999545812606812},\n",
              " {'NEGATIVO': 4.539786823443137e-05, 'POSITIVO': 0.9999545812606812},\n",
              " {'NEGATIVO': 4.539786823443137e-05, 'POSITIVO': 0.9999545812606812},\n",
              " {'NEGATIVO': 4.539786823443137e-05, 'POSITIVO': 0.9999545812606812},\n",
              " {'NEGATIVO': 4.539786823443137e-05, 'POSITIVO': 0.9999545812606812},\n",
              " {'NEGATIVO': 4.539786823443137e-05, 'POSITIVO': 0.9999545812606812},\n",
              " {'NEGATIVO': 4.539786823443137e-05, 'POSITIVO': 0.9999545812606812},\n",
              " {'NEGATIVO': 4.539786823443137e-05, 'POSITIVO': 0.9999545812606812},\n",
              " {'NEGATIVO': 4.539786823443137e-05, 'POSITIVO': 0.9999545812606812},\n",
              " {'NEGATIVO': 4.539786823443137e-05, 'POSITIVO': 0.9999545812606812},\n",
              " {'NEGATIVO': 4.539786823443137e-05, 'POSITIVO': 0.9999545812606812},\n",
              " {'NEGATIVO': 4.539786823443137e-05, 'POSITIVO': 0.9999545812606812},\n",
              " {'NEGATIVO': 4.539786823443137e-05, 'POSITIVO': 0.9999545812606812},\n",
              " {'NEGATIVO': 9.204223897540942e-05, 'POSITIVO': 0.9999545812606812},\n",
              " {'NEGATIVO': 4.539786823443137e-05, 'POSITIVO': 0.9999545812606812},\n",
              " {'NEGATIVO': 4.539786823443137e-05, 'POSITIVO': 0.9999545812606812},\n",
              " {'NEGATIVO': 4.539786823443137e-05, 'POSITIVO': 0.9999545812606812},\n",
              " {'NEGATIVO': 4.539786823443137e-05, 'POSITIVO': 0.9999545812606812},\n",
              " {'NEGATIVO': 0.0002636947319842875, 'POSITIVO': 0.9997792840003967},\n",
              " {'NEGATIVO': 0.006357365753501654, 'POSITIVO': 0.9964584708213806},\n",
              " {'NEGATIVO': 4.539786823443137e-05, 'POSITIVO': 0.9999545812606812},\n",
              " {'NEGATIVO': 4.539786823443137e-05, 'POSITIVO': 0.9999545812606812},\n",
              " {'NEGATIVO': 4.539786823443137e-05, 'POSITIVO': 0.9999545812606812},\n",
              " {'NEGATIVO': 4.539786823443137e-05, 'POSITIVO': 0.9999545812606812},\n",
              " {'NEGATIVO': 4.539786823443137e-05, 'POSITIVO': 0.9999545812606812},\n",
              " {'NEGATIVO': 4.539786823443137e-05, 'POSITIVO': 0.9999545812606812},\n",
              " {'NEGATIVO': 4.539786823443137e-05, 'POSITIVO': 0.9999545812606812},\n",
              " {'NEGATIVO': 4.539786823443137e-05, 'POSITIVO': 0.9999545812606812},\n",
              " {'NEGATIVO': 4.539786823443137e-05, 'POSITIVO': 0.9999545812606812},\n",
              " {'NEGATIVO': 4.539786823443137e-05, 'POSITIVO': 0.9999545812606812},\n",
              " {'NEGATIVO': 4.539786823443137e-05, 'POSITIVO': 0.9999545812606812},\n",
              " {'NEGATIVO': 4.539786823443137e-05, 'POSITIVO': 0.9999545812606812},\n",
              " {'NEGATIVO': 4.539786823443137e-05, 'POSITIVO': 0.9999545812606812},\n",
              " {'NEGATIVO': 4.539786823443137e-05, 'POSITIVO': 0.9999545812606812},\n",
              " {'NEGATIVO': 4.539786823443137e-05, 'POSITIVO': 0.9999545812606812},\n",
              " {'NEGATIVO': 4.539786823443137e-05, 'POSITIVO': 0.9999545812606812},\n",
              " {'NEGATIVO': 4.539786823443137e-05, 'POSITIVO': 0.9999545812606812},\n",
              " {'NEGATIVO': 4.539786823443137e-05, 'POSITIVO': 0.9999545812606812},\n",
              " {'NEGATIVO': 4.539786823443137e-05, 'POSITIVO': 0.9999545812606812},\n",
              " {'NEGATIVO': 4.539786823443137e-05, 'POSITIVO': 0.9999545812606812},\n",
              " {'NEGATIVO': 4.539786823443137e-05, 'POSITIVO': 0.9999545812606812},\n",
              " {'NEGATIVO': 4.539786823443137e-05, 'POSITIVO': 0.9999545812606812},\n",
              " {'NEGATIVO': 4.539786823443137e-05, 'POSITIVO': 0.9999545812606812},\n",
              " {'NEGATIVO': 4.539786823443137e-05, 'POSITIVO': 0.9999545812606812},\n",
              " {'NEGATIVO': 4.539786823443137e-05, 'POSITIVO': 0.9999545812606812},\n",
              " {'NEGATIVO': 4.539786823443137e-05, 'POSITIVO': 0.9999545812606812},\n",
              " {'NEGATIVO': 4.539786823443137e-05, 'POSITIVO': 0.9999545812606812},\n",
              " {'NEGATIVO': 4.539786823443137e-05, 'POSITIVO': 0.9999545812606812},\n",
              " {'NEGATIVO': 4.539786823443137e-05, 'POSITIVO': 0.9999545812606812},\n",
              " {'NEGATIVO': 4.539786823443137e-05, 'POSITIVO': 0.9999545812606812},\n",
              " {'NEGATIVO': 4.539786823443137e-05, 'POSITIVO': 0.9999545812606812},\n",
              " {'NEGATIVO': 4.539786823443137e-05, 'POSITIVO': 0.9999545812606812},\n",
              " {'NEGATIVO': 4.539786823443137e-05, 'POSITIVO': 0.9999545812606812},\n",
              " {'NEGATIVO': 4.539786823443137e-05, 'POSITIVO': 0.9999545812606812},\n",
              " {'NEGATIVO': 4.539786823443137e-05, 'POSITIVO': 0.9999545812606812},\n",
              " {'NEGATIVO': 4.539786823443137e-05, 'POSITIVO': 0.9999545812606812},\n",
              " {'NEGATIVO': 4.539786823443137e-05, 'POSITIVO': 0.9999545812606812},\n",
              " {'NEGATIVO': 4.539786823443137e-05, 'POSITIVO': 0.9999545812606812},\n",
              " {'NEGATIVO': 4.539786823443137e-05, 'POSITIVO': 0.9999545812606812},\n",
              " {'NEGATIVO': 0.0010771321831271052, 'POSITIVO': 0.9958765506744385},\n",
              " {'NEGATIVO': 4.539786823443137e-05, 'POSITIVO': 0.9999545812606812},\n",
              " {'NEGATIVO': 4.539786823443137e-05, 'POSITIVO': 0.9999545812606812},\n",
              " {'NEGATIVO': 4.539786823443137e-05, 'POSITIVO': 0.9999545812606812},\n",
              " {'NEGATIVO': 4.539786823443137e-05, 'POSITIVO': 0.9999545812606812},\n",
              " {'NEGATIVO': 4.539786823443137e-05, 'POSITIVO': 0.9999545812606812},\n",
              " {'NEGATIVO': 4.539786823443137e-05, 'POSITIVO': 0.9999545812606812},\n",
              " {'NEGATIVO': 7.279217970790341e-05, 'POSITIVO': 0.9999545812606812},\n",
              " {'NEGATIVO': 4.539786823443137e-05, 'POSITIVO': 0.9999545812606812},\n",
              " {'NEGATIVO': 4.539786823443137e-05, 'POSITIVO': 0.9999545812606812},\n",
              " {'NEGATIVO': 4.539786823443137e-05, 'POSITIVO': 0.9999545812606812},\n",
              " {'NEGATIVO': 4.539786823443137e-05, 'POSITIVO': 0.9999545812606812},\n",
              " {'NEGATIVO': 4.539786823443137e-05, 'POSITIVO': 0.9999545812606812},\n",
              " {'NEGATIVO': 4.539786823443137e-05, 'POSITIVO': 0.9999545812606812},\n",
              " {'NEGATIVO': 4.539786823443137e-05, 'POSITIVO': 0.9999545812606812},\n",
              " {'NEGATIVO': 4.539786823443137e-05, 'POSITIVO': 0.9999545812606812},\n",
              " {'NEGATIVO': 4.539786823443137e-05, 'POSITIVO': 0.9999545812606812},\n",
              " {'NEGATIVO': 4.539786823443137e-05, 'POSITIVO': 0.9999545812606812},\n",
              " {'NEGATIVO': 4.539786823443137e-05, 'POSITIVO': 0.9999545812606812},\n",
              " {'NEGATIVO': 4.539786823443137e-05, 'POSITIVO': 0.9999545812606812},\n",
              " {'NEGATIVO': 4.539786823443137e-05, 'POSITIVO': 0.9999545812606812},\n",
              " {'NEGATIVO': 4.539786823443137e-05, 'POSITIVO': 0.9999545812606812},\n",
              " {'NEGATIVO': 4.539786823443137e-05, 'POSITIVO': 0.9999545812606812},\n",
              " {'NEGATIVO': 4.539786823443137e-05, 'POSITIVO': 0.9999545812606812},\n",
              " {'NEGATIVO': 4.539786823443137e-05, 'POSITIVO': 0.9999545812606812},\n",
              " {'NEGATIVO': 4.539786823443137e-05, 'POSITIVO': 0.9999545812606812},\n",
              " {'NEGATIVO': 4.539786823443137e-05, 'POSITIVO': 0.9999545812606812},\n",
              " {'NEGATIVO': 4.539786823443137e-05, 'POSITIVO': 0.9999545812606812},\n",
              " {'NEGATIVO': 4.539786823443137e-05, 'POSITIVO': 0.9999545812606812},\n",
              " {'NEGATIVO': 4.539786823443137e-05, 'POSITIVO': 0.9999545812606812},\n",
              " {'NEGATIVO': 4.539786823443137e-05, 'POSITIVO': 0.9999545812606812},\n",
              " {'NEGATIVO': 4.539786823443137e-05, 'POSITIVO': 0.9998884201049805},\n",
              " {'NEGATIVO': 4.539786823443137e-05, 'POSITIVO': 0.9999545812606812},\n",
              " {'NEGATIVO': 4.539786823443137e-05, 'POSITIVO': 0.9999545812606812},\n",
              " {'NEGATIVO': 4.539786823443137e-05, 'POSITIVO': 0.9999545812606812},\n",
              " {'NEGATIVO': 4.539786823443137e-05, 'POSITIVO': 0.9999542236328125},\n",
              " {'NEGATIVO': 4.539786823443137e-05, 'POSITIVO': 0.9999545812606812},\n",
              " {'NEGATIVO': 4.539786823443137e-05, 'POSITIVO': 0.9999545812606812},\n",
              " {'NEGATIVO': 8.709109533810988e-05, 'POSITIVO': 0.9999545812606812},\n",
              " {'NEGATIVO': 4.539786823443137e-05, 'POSITIVO': 0.9999545812606812},\n",
              " {'NEGATIVO': 4.539786823443137e-05, 'POSITIVO': 0.9999545812606812},\n",
              " {'NEGATIVO': 4.539786823443137e-05, 'POSITIVO': 0.9999545812606812},\n",
              " {'NEGATIVO': 4.539786823443137e-05, 'POSITIVO': 0.9999545812606812},\n",
              " {'NEGATIVO': 4.539786823443137e-05, 'POSITIVO': 0.9999545812606812},\n",
              " {'NEGATIVO': 4.539786823443137e-05, 'POSITIVO': 0.9999545812606812},\n",
              " {'NEGATIVO': 4.539786823443137e-05, 'POSITIVO': 0.9999545812606812},\n",
              " {'NEGATIVO': 4.539786823443137e-05, 'POSITIVO': 0.9999545812606812},\n",
              " {'NEGATIVO': 4.539786823443137e-05, 'POSITIVO': 0.9999545812606812},\n",
              " {'NEGATIVO': 4.539786823443137e-05, 'POSITIVO': 0.9999545812606812},\n",
              " {'NEGATIVO': 4.539786823443137e-05, 'POSITIVO': 0.9999545812606812},\n",
              " {'NEGATIVO': 4.539786823443137e-05, 'POSITIVO': 0.9999545812606812},\n",
              " {'NEGATIVO': 4.539786823443137e-05, 'POSITIVO': 0.9999545812606812},\n",
              " {'NEGATIVO': 4.539786823443137e-05, 'POSITIVO': 0.9999545812606812},\n",
              " {'NEGATIVO': 9.582131315255538e-05, 'POSITIVO': 0.9999545812606812},\n",
              " {'NEGATIVO': 4.539786823443137e-05, 'POSITIVO': 0.9999545812606812},\n",
              " {'NEGATIVO': 4.539786823443137e-05, 'POSITIVO': 0.9999545812606812},\n",
              " {'NEGATIVO': 4.539786823443137e-05, 'POSITIVO': 0.9999545812606812},\n",
              " {'NEGATIVO': 4.539786823443137e-05, 'POSITIVO': 0.9999545812606812},\n",
              " {'NEGATIVO': 4.539786823443137e-05, 'POSITIVO': 0.9999545812606812},\n",
              " {'NEGATIVO': 0.00015729341248515993, 'POSITIVO': 0.999951958656311},\n",
              " {'NEGATIVO': 5.150027573108673e-05, 'POSITIVO': 0.9999545812606812},\n",
              " {'NEGATIVO': 4.539786823443137e-05, 'POSITIVO': 0.9999545812606812},\n",
              " {'NEGATIVO': 4.539786823443137e-05, 'POSITIVO': 0.9999545812606812},\n",
              " {'NEGATIVO': 4.539786823443137e-05, 'POSITIVO': 0.9999545812606812},\n",
              " {'NEGATIVO': 0.0001350025413557887, 'POSITIVO': 0.9999545812606812},\n",
              " {'NEGATIVO': 4.539786823443137e-05, 'POSITIVO': 0.9999545812606812},\n",
              " {'NEGATIVO': 4.539786823443137e-05, 'POSITIVO': 0.9999545812606812},\n",
              " {'NEGATIVO': 4.539786823443137e-05, 'POSITIVO': 0.9999545812606812},\n",
              " {'NEGATIVO': 4.539786823443137e-05, 'POSITIVO': 0.9999545812606812},\n",
              " {'NEGATIVO': 4.539786823443137e-05, 'POSITIVO': 0.9999545812606812},\n",
              " {'NEGATIVO': 4.539786823443137e-05, 'POSITIVO': 0.9999545812606812},\n",
              " {'NEGATIVO': 4.539786823443137e-05, 'POSITIVO': 0.9999545812606812},\n",
              " {'NEGATIVO': 4.539786823443137e-05, 'POSITIVO': 0.9999545812606812},\n",
              " {'NEGATIVO': 4.539786823443137e-05, 'POSITIVO': 0.9999545812606812},\n",
              " {'NEGATIVO': 4.539786823443137e-05, 'POSITIVO': 0.9999545812606812},\n",
              " {'NEGATIVO': 4.539786823443137e-05, 'POSITIVO': 0.9999545812606812},\n",
              " {'NEGATIVO': 4.539786823443137e-05, 'POSITIVO': 0.9999545812606812},\n",
              " {'NEGATIVO': 4.539786823443137e-05, 'POSITIVO': 0.9999545812606812},\n",
              " {'NEGATIVO': 0.0003033543180208653, 'POSITIVO': 0.9998443126678467},\n",
              " {'NEGATIVO': 4.539786823443137e-05, 'POSITIVO': 0.9999545812606812},\n",
              " {'NEGATIVO': 4.539786823443137e-05, 'POSITIVO': 0.9999545812606812},\n",
              " {'NEGATIVO': 4.539786823443137e-05, 'POSITIVO': 0.9999545812606812},\n",
              " {'NEGATIVO': 4.539786823443137e-05, 'POSITIVO': 0.9999545812606812},\n",
              " {'NEGATIVO': 4.539786823443137e-05, 'POSITIVO': 0.9999545812606812},\n",
              " {'NEGATIVO': 4.539786823443137e-05, 'POSITIVO': 0.9999545812606812},\n",
              " {'NEGATIVO': 4.539786823443137e-05, 'POSITIVO': 0.9999545812606812},\n",
              " {'NEGATIVO': 4.539786823443137e-05, 'POSITIVO': 0.9999545812606812},\n",
              " {'NEGATIVO': 4.539786823443137e-05, 'POSITIVO': 0.9999545812606812},\n",
              " {'NEGATIVO': 4.539786823443137e-05, 'POSITIVO': 0.9999545812606812},\n",
              " {'NEGATIVO': 4.539786823443137e-05, 'POSITIVO': 0.9999545812606812},\n",
              " {'NEGATIVO': 4.539786823443137e-05, 'POSITIVO': 0.9999545812606812},\n",
              " {'NEGATIVO': 4.539786823443137e-05, 'POSITIVO': 0.9999545812606812},\n",
              " {'NEGATIVO': 4.539786823443137e-05, 'POSITIVO': 0.9999545812606812},\n",
              " {'NEGATIVO': 4.539786823443137e-05, 'POSITIVO': 0.9999545812606812},\n",
              " {'NEGATIVO': 4.539786823443137e-05, 'POSITIVO': 0.9999545812606812},\n",
              " {'NEGATIVO': 0.004226519260555506, 'POSITIVO': 0.9975066781044006},\n",
              " {'NEGATIVO': 4.539786823443137e-05, 'POSITIVO': 0.9999545812606812},\n",
              " {'NEGATIVO': 4.539786823443137e-05, 'POSITIVO': 0.9999545812606812},\n",
              " {'NEGATIVO': 4.539786823443137e-05, 'POSITIVO': 0.9999545812606812},\n",
              " {'NEGATIVO': 4.539786823443137e-05, 'POSITIVO': 0.9999545812606812},\n",
              " {'NEGATIVO': 4.539786823443137e-05, 'POSITIVO': 0.9999545812606812},\n",
              " {'NEGATIVO': 4.539786823443137e-05, 'POSITIVO': 0.9999545812606812},\n",
              " {'NEGATIVO': 4.539786823443137e-05, 'POSITIVO': 0.9999545812606812},\n",
              " {'NEGATIVO': 4.539786823443137e-05, 'POSITIVO': 0.9999545812606812},\n",
              " {'NEGATIVO': 4.539786823443137e-05, 'POSITIVO': 0.9999545812606812},\n",
              " {'NEGATIVO': 4.539786823443137e-05, 'POSITIVO': 0.9999545812606812},\n",
              " {'NEGATIVO': 4.539786823443137e-05, 'POSITIVO': 0.9999545812606812},\n",
              " {'NEGATIVO': 4.539786823443137e-05, 'POSITIVO': 0.9999545812606812},\n",
              " {'NEGATIVO': 4.539786823443137e-05, 'POSITIVO': 0.9999545812606812},\n",
              " {'NEGATIVO': 4.539786823443137e-05, 'POSITIVO': 0.9999545812606812},\n",
              " {'NEGATIVO': 4.539786823443137e-05, 'POSITIVO': 0.9999545812606812},\n",
              " {'NEGATIVO': 4.539786823443137e-05, 'POSITIVO': 0.9999545812606812},\n",
              " {'NEGATIVO': 4.539786823443137e-05, 'POSITIVO': 0.9999545812606812},\n",
              " {'NEGATIVO': 4.539786823443137e-05, 'POSITIVO': 0.9999545812606812},\n",
              " {'NEGATIVO': 4.539786823443137e-05, 'POSITIVO': 0.9999545812606812},\n",
              " {'NEGATIVO': 4.539786823443137e-05, 'POSITIVO': 0.9999545812606812},\n",
              " {'NEGATIVO': 4.539786823443137e-05, 'POSITIVO': 0.9999545812606812},\n",
              " {'NEGATIVO': 4.539786823443137e-05, 'POSITIVO': 0.9999545812606812},\n",
              " {'NEGATIVO': 4.539786823443137e-05, 'POSITIVO': 0.9999545812606812},\n",
              " {'NEGATIVO': 4.539786823443137e-05, 'POSITIVO': 0.9999545812606812},\n",
              " {'NEGATIVO': 4.539786823443137e-05, 'POSITIVO': 0.9999545812606812},\n",
              " {'NEGATIVO': 4.539786823443137e-05, 'POSITIVO': 0.9999545812606812},\n",
              " {'NEGATIVO': 4.539786823443137e-05, 'POSITIVO': 0.9999545812606812},\n",
              " {'NEGATIVO': 4.539786823443137e-05, 'POSITIVO': 0.9999545812606812},\n",
              " {'NEGATIVO': 4.539786823443137e-05, 'POSITIVO': 0.9999545812606812},\n",
              " {'NEGATIVO': 4.539786823443137e-05, 'POSITIVO': 0.9999545812606812},\n",
              " {'NEGATIVO': 4.539786823443137e-05, 'POSITIVO': 0.9999545812606812},\n",
              " {'NEGATIVO': 4.539786823443137e-05, 'POSITIVO': 0.9999545812606812},\n",
              " {'NEGATIVO': 4.539786823443137e-05, 'POSITIVO': 0.9999545812606812},\n",
              " {'NEGATIVO': 4.539786823443137e-05, 'POSITIVO': 0.9999545812606812},\n",
              " {'NEGATIVO': 4.539786823443137e-05, 'POSITIVO': 0.9999545812606812},\n",
              " {'NEGATIVO': 4.539786823443137e-05, 'POSITIVO': 0.9999545812606812},\n",
              " {'NEGATIVO': 4.539786823443137e-05, 'POSITIVO': 0.9999545812606812},\n",
              " {'NEGATIVO': 4.539786823443137e-05, 'POSITIVO': 0.9999545812606812},\n",
              " {'NEGATIVO': 4.539786823443137e-05, 'POSITIVO': 0.9999545812606812},\n",
              " {'NEGATIVO': 4.539786823443137e-05, 'POSITIVO': 0.9999545812606812},\n",
              " {'NEGATIVO': 4.539786823443137e-05, 'POSITIVO': 0.9999545812606812},\n",
              " {'NEGATIVO': 4.539786823443137e-05, 'POSITIVO': 0.9999545812606812},\n",
              " {'NEGATIVO': 4.539786823443137e-05, 'POSITIVO': 0.9999545812606812},\n",
              " {'NEGATIVO': 4.539786823443137e-05, 'POSITIVO': 0.9999545812606812},\n",
              " {'NEGATIVO': 4.539786823443137e-05, 'POSITIVO': 0.9999545812606812},\n",
              " {'NEGATIVO': 4.539786823443137e-05, 'POSITIVO': 0.9999545812606812},\n",
              " {'NEGATIVO': 4.539786823443137e-05, 'POSITIVO': 0.9999545812606812},\n",
              " {'NEGATIVO': 4.539786823443137e-05, 'POSITIVO': 0.9999545812606812},\n",
              " {'NEGATIVO': 4.539786823443137e-05, 'POSITIVO': 0.9999545812606812},\n",
              " {'NEGATIVO': 4.539786823443137e-05, 'POSITIVO': 0.9999545812606812},\n",
              " {'NEGATIVO': 4.539786823443137e-05, 'POSITIVO': 0.9999545812606812},\n",
              " {'NEGATIVO': 4.539786823443137e-05, 'POSITIVO': 0.9999545812606812},\n",
              " {'NEGATIVO': 4.539786823443137e-05, 'POSITIVO': 0.9999545812606812},\n",
              " {'NEGATIVO': 4.539786823443137e-05, 'POSITIVO': 0.9999545812606812},\n",
              " {'NEGATIVO': 4.539786823443137e-05, 'POSITIVO': 0.9999545812606812},\n",
              " {'NEGATIVO': 4.539786823443137e-05, 'POSITIVO': 0.9999545812606812},\n",
              " {'NEGATIVO': 4.539786823443137e-05, 'POSITIVO': 0.9999545812606812},\n",
              " {'NEGATIVO': 4.539786823443137e-05, 'POSITIVO': 0.9999545812606812},\n",
              " {'NEGATIVO': 4.539786823443137e-05, 'POSITIVO': 0.9999545812606812},\n",
              " {'NEGATIVO': 4.539786823443137e-05, 'POSITIVO': 0.9999545812606812},\n",
              " {'NEGATIVO': 4.539786823443137e-05, 'POSITIVO': 0.9999545812606812},\n",
              " {'NEGATIVO': 4.539786823443137e-05, 'POSITIVO': 0.9999545812606812},\n",
              " {'NEGATIVO': 4.539786823443137e-05, 'POSITIVO': 0.9999545812606812},\n",
              " {'NEGATIVO': 4.539786823443137e-05, 'POSITIVO': 0.9999545812606812},\n",
              " {'NEGATIVO': 4.539786823443137e-05, 'POSITIVO': 0.9999545812606812},\n",
              " {'NEGATIVO': 4.539786823443137e-05, 'POSITIVO': 0.9999545812606812},\n",
              " {'NEGATIVO': 4.539786823443137e-05, 'POSITIVO': 0.9999545812606812},\n",
              " {'NEGATIVO': 0.0019302571890875697, 'POSITIVO': 0.9993711113929749},\n",
              " {'NEGATIVO': 4.539786823443137e-05, 'POSITIVO': 0.9999545812606812},\n",
              " {'NEGATIVO': 4.539786823443137e-05, 'POSITIVO': 0.9999545812606812},\n",
              " {'NEGATIVO': 4.539786823443137e-05, 'POSITIVO': 0.9999545812606812},\n",
              " {'NEGATIVO': 4.539786823443137e-05, 'POSITIVO': 0.9999545812606812},\n",
              " {'NEGATIVO': 4.539786823443137e-05, 'POSITIVO': 0.9999545812606812},\n",
              " {'NEGATIVO': 4.539786823443137e-05, 'POSITIVO': 0.9999545812606812},\n",
              " {'NEGATIVO': 4.539786823443137e-05, 'POSITIVO': 0.9999545812606812},\n",
              " {'NEGATIVO': 4.539786823443137e-05, 'POSITIVO': 0.9999545812606812},\n",
              " {'NEGATIVO': 4.539786823443137e-05, 'POSITIVO': 0.9999545812606812},\n",
              " {'NEGATIVO': 4.539786823443137e-05, 'POSITIVO': 0.9999545812606812},\n",
              " {'NEGATIVO': 4.539786823443137e-05, 'POSITIVO': 0.9999545812606812},\n",
              " {'NEGATIVO': 4.539786823443137e-05, 'POSITIVO': 0.9999545812606812},\n",
              " {'NEGATIVO': 4.539786823443137e-05, 'POSITIVO': 0.9999545812606812},\n",
              " {'NEGATIVO': 4.539786823443137e-05, 'POSITIVO': 0.9999545812606812},\n",
              " {'NEGATIVO': 4.539786823443137e-05, 'POSITIVO': 0.9999097585678101},\n",
              " {'NEGATIVO': 4.539786823443137e-05, 'POSITIVO': 0.9999545812606812},\n",
              " {'NEGATIVO': 4.539786823443137e-05, 'POSITIVO': 0.9999545812606812},\n",
              " {'NEGATIVO': 4.539786823443137e-05, 'POSITIVO': 0.9999545812606812},\n",
              " {'NEGATIVO': 4.539786823443137e-05, 'POSITIVO': 0.9999545812606812},\n",
              " {'NEGATIVO': 4.539786823443137e-05, 'POSITIVO': 0.9999545812606812},\n",
              " {'NEGATIVO': 4.539786823443137e-05, 'POSITIVO': 0.9999545812606812},\n",
              " {'NEGATIVO': 4.539786823443137e-05, 'POSITIVO': 0.9999545812606812},\n",
              " {'NEGATIVO': 4.539786823443137e-05, 'POSITIVO': 0.9999545812606812},\n",
              " {'NEGATIVO': 4.539786823443137e-05, 'POSITIVO': 0.9999545812606812},\n",
              " {'NEGATIVO': 4.539786823443137e-05, 'POSITIVO': 0.9999545812606812},\n",
              " {'NEGATIVO': 4.539786823443137e-05, 'POSITIVO': 0.9999545812606812},\n",
              " {'NEGATIVO': 4.539786823443137e-05, 'POSITIVO': 0.9999545812606812},\n",
              " {'NEGATIVO': 4.539786823443137e-05, 'POSITIVO': 0.9999545812606812},\n",
              " {'NEGATIVO': 4.539786823443137e-05, 'POSITIVO': 0.9999545812606812},\n",
              " {'NEGATIVO': 4.539786823443137e-05, 'POSITIVO': 0.9999545812606812},\n",
              " {'NEGATIVO': 4.539786823443137e-05, 'POSITIVO': 0.9999545812606812},\n",
              " {'NEGATIVO': 4.539786823443137e-05, 'POSITIVO': 0.9999545812606812},\n",
              " {'NEGATIVO': 4.539786823443137e-05, 'POSITIVO': 0.9999545812606812},\n",
              " {'NEGATIVO': 4.539786823443137e-05, 'POSITIVO': 0.9999545812606812},\n",
              " {'NEGATIVO': 4.539786823443137e-05, 'POSITIVO': 0.9999545812606812},\n",
              " {'NEGATIVO': 4.539786823443137e-05, 'POSITIVO': 0.9999545812606812},\n",
              " {'NEGATIVO': 4.539786823443137e-05, 'POSITIVO': 0.9999545812606812},\n",
              " {'NEGATIVO': 4.539786823443137e-05, 'POSITIVO': 0.9999545812606812},\n",
              " {'NEGATIVO': 4.539786823443137e-05, 'POSITIVO': 0.9999545812606812},\n",
              " {'NEGATIVO': 4.539786823443137e-05, 'POSITIVO': 0.9999545812606812},\n",
              " {'NEGATIVO': 4.539786823443137e-05, 'POSITIVO': 0.9999545812606812},\n",
              " {'NEGATIVO': 4.539786823443137e-05, 'POSITIVO': 0.9999545812606812},\n",
              " {'NEGATIVO': 4.539786823443137e-05, 'POSITIVO': 0.9999545812606812},\n",
              " {'NEGATIVO': 4.539786823443137e-05, 'POSITIVO': 0.9999545812606812},\n",
              " {'NEGATIVO': 4.539786823443137e-05, 'POSITIVO': 0.9999545812606812},\n",
              " {'NEGATIVO': 4.539786823443137e-05, 'POSITIVO': 0.9999545812606812},\n",
              " {'NEGATIVO': 4.539786823443137e-05, 'POSITIVO': 0.9999545812606812},\n",
              " {'NEGATIVO': 4.539786823443137e-05, 'POSITIVO': 0.9999545812606812},\n",
              " {'NEGATIVO': 4.539786823443137e-05, 'POSITIVO': 0.9999545812606812},\n",
              " {'NEGATIVO': 4.539786823443137e-05, 'POSITIVO': 0.9999545812606812},\n",
              " {'NEGATIVO': 4.539786823443137e-05, 'POSITIVO': 0.9999545812606812},\n",
              " {'NEGATIVO': 4.539786823443137e-05, 'POSITIVO': 0.9999545812606812},\n",
              " {'NEGATIVO': 4.539786823443137e-05, 'POSITIVO': 0.9999545812606812},\n",
              " {'NEGATIVO': 4.539786823443137e-05, 'POSITIVO': 0.9999545812606812},\n",
              " {'NEGATIVO': 4.539786823443137e-05, 'POSITIVO': 0.9999545812606812},\n",
              " {'NEGATIVO': 4.539786823443137e-05, 'POSITIVO': 0.9999545812606812},\n",
              " {'NEGATIVO': 4.539786823443137e-05, 'POSITIVO': 0.9999545812606812},\n",
              " {'NEGATIVO': 4.539786823443137e-05, 'POSITIVO': 0.9999545812606812},\n",
              " {'NEGATIVO': 4.539786823443137e-05, 'POSITIVO': 0.9999545812606812},\n",
              " {'NEGATIVO': 4.539786823443137e-05, 'POSITIVO': 0.9999545812606812},\n",
              " {'NEGATIVO': 4.539786823443137e-05, 'POSITIVO': 0.9999545812606812},\n",
              " {'NEGATIVO': 4.539786823443137e-05, 'POSITIVO': 0.9999545812606812},\n",
              " {'NEGATIVO': 4.539786823443137e-05, 'POSITIVO': 0.9999545812606812},\n",
              " {'NEGATIVO': 4.539786823443137e-05, 'POSITIVO': 0.9999545812606812},\n",
              " {'NEGATIVO': 4.539786823443137e-05, 'POSITIVO': 0.9999545812606812},\n",
              " {'NEGATIVO': 4.539786823443137e-05, 'POSITIVO': 0.9999545812606812},\n",
              " {'NEGATIVO': 4.539786823443137e-05, 'POSITIVO': 0.9999545812606812},\n",
              " {'NEGATIVO': 4.539786823443137e-05, 'POSITIVO': 0.9999545812606812},\n",
              " {'NEGATIVO': 4.539786823443137e-05, 'POSITIVO': 0.9999545812606812},\n",
              " {'NEGATIVO': 4.539786823443137e-05, 'POSITIVO': 0.9999545812606812},\n",
              " {'NEGATIVO': 0.011266971006989479, 'POSITIVO': 0.9957887530326843},\n",
              " {'NEGATIVO': 4.539786823443137e-05, 'POSITIVO': 0.9999545812606812},\n",
              " {'NEGATIVO': 4.539786823443137e-05, 'POSITIVO': 0.9999545812606812},\n",
              " {'NEGATIVO': 4.539786823443137e-05, 'POSITIVO': 0.9999545812606812},\n",
              " {'NEGATIVO': 4.539786823443137e-05, 'POSITIVO': 0.9999545812606812},\n",
              " {'NEGATIVO': 4.539786823443137e-05, 'POSITIVO': 0.9999545812606812},\n",
              " {'NEGATIVO': 4.539786823443137e-05, 'POSITIVO': 0.9999545812606812},\n",
              " {'NEGATIVO': 4.539786823443137e-05, 'POSITIVO': 0.9999545812606812},\n",
              " {'NEGATIVO': 0.0001548513537272811, 'POSITIVO': 0.9999545812606812},\n",
              " {'NEGATIVO': 4.539786823443137e-05, 'POSITIVO': 0.9999545812606812},\n",
              " {'NEGATIVO': 4.539786823443137e-05, 'POSITIVO': 0.9999545812606812},\n",
              " {'NEGATIVO': 4.539786823443137e-05, 'POSITIVO': 0.9999545812606812},\n",
              " {'NEGATIVO': 4.539786823443137e-05, 'POSITIVO': 0.9999545812606812},\n",
              " {'NEGATIVO': 4.539786823443137e-05, 'POSITIVO': 0.9999545812606812},\n",
              " {'NEGATIVO': 4.539786823443137e-05, 'POSITIVO': 0.9999545812606812},\n",
              " {'NEGATIVO': 6.324669084278867e-05, 'POSITIVO': 0.9999477863311768},\n",
              " {'NEGATIVO': 4.539786823443137e-05, 'POSITIVO': 0.9999545812606812},\n",
              " {'NEGATIVO': 4.539786823443137e-05, 'POSITIVO': 0.9999545812606812},\n",
              " {'NEGATIVO': 0.0011122608557343483, 'POSITIVO': 0.999500036239624},\n",
              " {'NEGATIVO': 4.539786823443137e-05, 'POSITIVO': 0.9999545812606812},\n",
              " {'NEGATIVO': 4.539786823443137e-05, 'POSITIVO': 0.9999545812606812},\n",
              " {'NEGATIVO': 6.726290303049609e-05, 'POSITIVO': 0.9999545812606812},\n",
              " {'NEGATIVO': 0.011470667086541653, 'POSITIVO': 0.9937824606895447},\n",
              " {'NEGATIVO': 4.539786823443137e-05, 'POSITIVO': 0.9999545812606812},\n",
              " {'NEGATIVO': 4.539786823443137e-05, 'POSITIVO': 0.9999545812606812},\n",
              " {'NEGATIVO': 4.539786823443137e-05, 'POSITIVO': 0.9999545812606812},\n",
              " {'NEGATIVO': 7.720012217760086e-05, 'POSITIVO': 0.9999545812606812},\n",
              " {'NEGATIVO': 4.539786823443137e-05, 'POSITIVO': 0.9999545812606812},\n",
              " {'NEGATIVO': 4.539786823443137e-05, 'POSITIVO': 0.9999545812606812},\n",
              " {'NEGATIVO': 4.539786823443137e-05, 'POSITIVO': 0.9999545812606812},\n",
              " {'NEGATIVO': 4.539786823443137e-05, 'POSITIVO': 0.9999545812606812},\n",
              " {'NEGATIVO': 4.539786823443137e-05, 'POSITIVO': 0.9999545812606812},\n",
              " {'NEGATIVO': 4.539786823443137e-05, 'POSITIVO': 0.9999545812606812},\n",
              " {'NEGATIVO': 4.539786823443137e-05, 'POSITIVO': 0.9999545812606812},\n",
              " {'NEGATIVO': 4.539786823443137e-05, 'POSITIVO': 0.9999545812606812},\n",
              " {'NEGATIVO': 4.539786823443137e-05, 'POSITIVO': 0.9999545812606812},\n",
              " {'NEGATIVO': 4.539786823443137e-05, 'POSITIVO': 0.9999545812606812},\n",
              " {'NEGATIVO': 4.539786823443137e-05, 'POSITIVO': 0.9999545812606812},\n",
              " {'NEGATIVO': 4.539786823443137e-05, 'POSITIVO': 0.9999545812606812},\n",
              " {'NEGATIVO': 4.539786823443137e-05, 'POSITIVO': 0.9999545812606812},\n",
              " {'NEGATIVO': 4.539786823443137e-05, 'POSITIVO': 0.9999545812606812},\n",
              " {'NEGATIVO': 4.539786823443137e-05, 'POSITIVO': 0.9999545812606812},\n",
              " {'NEGATIVO': 4.539786823443137e-05, 'POSITIVO': 0.9999545812606812},\n",
              " {'NEGATIVO': 4.539786823443137e-05, 'POSITIVO': 0.9999545812606812},\n",
              " {'NEGATIVO': 5.376426997827366e-05, 'POSITIVO': 0.9999545812606812},\n",
              " {'NEGATIVO': 4.539786823443137e-05, 'POSITIVO': 0.9999545812606812},\n",
              " {'NEGATIVO': 4.539786823443137e-05, 'POSITIVO': 0.9999545812606812},\n",
              " {'NEGATIVO': 4.539786823443137e-05, 'POSITIVO': 0.9999545812606812},\n",
              " {'NEGATIVO': 4.539786823443137e-05, 'POSITIVO': 0.9999545812606812},\n",
              " {'NEGATIVO': 4.539786823443137e-05, 'POSITIVO': 0.9999545812606812},\n",
              " {'NEGATIVO': 4.539786823443137e-05, 'POSITIVO': 0.9999545812606812},\n",
              " {'NEGATIVO': 4.539786823443137e-05, 'POSITIVO': 0.9999545812606812},\n",
              " {'NEGATIVO': 4.539786823443137e-05, 'POSITIVO': 0.9999545812606812},\n",
              " {'NEGATIVO': 4.539786823443137e-05, 'POSITIVO': 0.9999545812606812},\n",
              " {'NEGATIVO': 4.539786823443137e-05, 'POSITIVO': 0.9999545812606812},\n",
              " {'NEGATIVO': 4.539786823443137e-05, 'POSITIVO': 0.9999545812606812},\n",
              " {'NEGATIVO': 4.539786823443137e-05, 'POSITIVO': 0.9999545812606812},\n",
              " {'NEGATIVO': 4.539786823443137e-05, 'POSITIVO': 0.9999545812606812},\n",
              " {'NEGATIVO': 4.539786823443137e-05, 'POSITIVO': 0.9999545812606812},\n",
              " {'NEGATIVO': 4.539786823443137e-05, 'POSITIVO': 0.9999545812606812},\n",
              " {'NEGATIVO': 4.539786823443137e-05, 'POSITIVO': 0.9999545812606812},\n",
              " {'NEGATIVO': 4.539786823443137e-05, 'POSITIVO': 0.9999545812606812},\n",
              " {'NEGATIVO': 4.539786823443137e-05, 'POSITIVO': 0.9999545812606812},\n",
              " {'NEGATIVO': 4.539786823443137e-05, 'POSITIVO': 0.9999545812606812},\n",
              " {'NEGATIVO': 4.539786823443137e-05, 'POSITIVO': 0.9999545812606812},\n",
              " {'NEGATIVO': 4.539786823443137e-05, 'POSITIVO': 0.9999545812606812},\n",
              " {'NEGATIVO': 4.539786823443137e-05, 'POSITIVO': 0.9999545812606812},\n",
              " {'NEGATIVO': 4.539786823443137e-05, 'POSITIVO': 0.9999545812606812},\n",
              " {'NEGATIVO': 4.539786823443137e-05, 'POSITIVO': 0.9999545812606812},\n",
              " {'NEGATIVO': 4.539786823443137e-05, 'POSITIVO': 0.9999545812606812},\n",
              " {'NEGATIVO': 4.539786823443137e-05, 'POSITIVO': 0.9999545812606812},\n",
              " {'NEGATIVO': 4.539786823443137e-05, 'POSITIVO': 0.9999545812606812},\n",
              " {'NEGATIVO': 4.539786823443137e-05, 'POSITIVO': 0.9999545812606812},\n",
              " {'NEGATIVO': 4.539786823443137e-05, 'POSITIVO': 0.9999545812606812},\n",
              " {'NEGATIVO': 4.539786823443137e-05, 'POSITIVO': 0.9999545812606812},\n",
              " {'NEGATIVO': 4.539786823443137e-05, 'POSITIVO': 0.9999545812606812},\n",
              " {'NEGATIVO': 4.539786823443137e-05, 'POSITIVO': 0.9999545812606812},\n",
              " {'NEGATIVO': 4.539786823443137e-05, 'POSITIVO': 0.9999545812606812},\n",
              " {'NEGATIVO': 4.539786823443137e-05, 'POSITIVO': 0.9999545812606812},\n",
              " {'NEGATIVO': 4.539786823443137e-05, 'POSITIVO': 0.9999545812606812},\n",
              " {'NEGATIVO': 4.539786823443137e-05, 'POSITIVO': 0.9999545812606812},\n",
              " {'NEGATIVO': 4.539786823443137e-05, 'POSITIVO': 0.9999545812606812},\n",
              " {'NEGATIVO': 4.539786823443137e-05, 'POSITIVO': 0.9999545812606812},\n",
              " {'NEGATIVO': 4.539786823443137e-05, 'POSITIVO': 0.9999545812606812},\n",
              " {'NEGATIVO': 4.539786823443137e-05, 'POSITIVO': 0.9999545812606812},\n",
              " {'NEGATIVO': 4.539786823443137e-05, 'POSITIVO': 0.9999545812606812},\n",
              " {'NEGATIVO': 5.364810931496322e-05, 'POSITIVO': 0.9999545812606812},\n",
              " {'NEGATIVO': 0.0005916680092923343, 'POSITIVO': 0.9997827410697937},\n",
              " {'NEGATIVO': 4.539786823443137e-05, 'POSITIVO': 0.9999545812606812},\n",
              " {'NEGATIVO': 4.539786823443137e-05, 'POSITIVO': 0.9999545812606812},\n",
              " {'NEGATIVO': 7.385377102764323e-05, 'POSITIVO': 0.9999485015869141},\n",
              " {'NEGATIVO': 4.539786823443137e-05, 'POSITIVO': 0.9999545812606812},\n",
              " {'NEGATIVO': 4.539786823443137e-05, 'POSITIVO': 0.9999545812606812},\n",
              " {'NEGATIVO': 4.539786823443137e-05, 'POSITIVO': 0.9999545812606812},\n",
              " {'NEGATIVO': 4.539786823443137e-05, 'POSITIVO': 0.9999545812606812},\n",
              " {'NEGATIVO': 4.539786823443137e-05, 'POSITIVO': 0.9999545812606812},\n",
              " {'NEGATIVO': 4.539786823443137e-05, 'POSITIVO': 0.9999545812606812},\n",
              " {'NEGATIVO': 4.539786823443137e-05, 'POSITIVO': 0.9999545812606812},\n",
              " {'NEGATIVO': 4.539786823443137e-05, 'POSITIVO': 0.9999545812606812},\n",
              " {'NEGATIVO': 0.00010209208994638175, 'POSITIVO': 0.9999309778213501},\n",
              " {'NEGATIVO': 4.539786823443137e-05, 'POSITIVO': 0.9999545812606812},\n",
              " {'NEGATIVO': 4.539786823443137e-05, 'POSITIVO': 0.9999545812606812},\n",
              " {'NEGATIVO': 4.539786823443137e-05, 'POSITIVO': 0.9999545812606812},\n",
              " {'NEGATIVO': 4.539786823443137e-05, 'POSITIVO': 0.9999545812606812},\n",
              " {'NEGATIVO': 4.539786823443137e-05, 'POSITIVO': 0.9999545812606812},\n",
              " {'NEGATIVO': 4.539786823443137e-05, 'POSITIVO': 0.9999545812606812},\n",
              " {'NEGATIVO': 4.539786823443137e-05, 'POSITIVO': 0.9999545812606812},\n",
              " {'NEGATIVO': 4.539786823443137e-05, 'POSITIVO': 0.9999545812606812},\n",
              " {'NEGATIVO': 4.539786823443137e-05, 'POSITIVO': 0.9999545812606812},\n",
              " {'NEGATIVO': 4.539786823443137e-05, 'POSITIVO': 0.9999545812606812},\n",
              " {'NEGATIVO': 4.539786823443137e-05, 'POSITIVO': 0.9999545812606812},\n",
              " {'NEGATIVO': 4.539786823443137e-05, 'POSITIVO': 0.9999545812606812},\n",
              " {'NEGATIVO': 4.539786823443137e-05, 'POSITIVO': 0.9999545812606812},\n",
              " {'NEGATIVO': 4.539786823443137e-05, 'POSITIVO': 0.9999545812606812},\n",
              " {'NEGATIVO': 4.539786823443137e-05, 'POSITIVO': 0.9999545812606812},\n",
              " {'NEGATIVO': 4.539786823443137e-05, 'POSITIVO': 0.9999545812606812},\n",
              " {'NEGATIVO': 4.539786823443137e-05, 'POSITIVO': 0.9999545812606812},\n",
              " {'NEGATIVO': 4.539786823443137e-05, 'POSITIVO': 0.9999545812606812},\n",
              " {'NEGATIVO': 4.539786823443137e-05, 'POSITIVO': 0.9999545812606812},\n",
              " {'NEGATIVO': 4.539786823443137e-05, 'POSITIVO': 0.9999545812606812},\n",
              " {'NEGATIVO': 4.539786823443137e-05, 'POSITIVO': 0.9999545812606812},\n",
              " {'NEGATIVO': 4.539786823443137e-05, 'POSITIVO': 0.9999545812606812},\n",
              " {'NEGATIVO': 4.539786823443137e-05, 'POSITIVO': 0.9999545812606812},\n",
              " {'NEGATIVO': 4.539786823443137e-05, 'POSITIVO': 0.9999545812606812},\n",
              " {'NEGATIVO': 4.539786823443137e-05, 'POSITIVO': 0.9999545812606812},\n",
              " {'NEGATIVO': 4.539786823443137e-05, 'POSITIVO': 0.9999545812606812},\n",
              " {'NEGATIVO': 4.539786823443137e-05, 'POSITIVO': 0.9999545812606812},\n",
              " {'NEGATIVO': 4.539786823443137e-05, 'POSITIVO': 0.9999545812606812},\n",
              " {'NEGATIVO': 4.539786823443137e-05, 'POSITIVO': 0.9999545812606812},\n",
              " {'NEGATIVO': 4.539786823443137e-05, 'POSITIVO': 0.9999545812606812},\n",
              " {'NEGATIVO': 4.539786823443137e-05, 'POSITIVO': 0.9999545812606812},\n",
              " {'NEGATIVO': 4.539786823443137e-05, 'POSITIVO': 0.9999545812606812},\n",
              " {'NEGATIVO': 4.539786823443137e-05, 'POSITIVO': 0.9999545812606812},\n",
              " {'NEGATIVO': 4.539786823443137e-05, 'POSITIVO': 0.9999545812606812},\n",
              " {'NEGATIVO': 4.539786823443137e-05, 'POSITIVO': 0.9999545812606812},\n",
              " {'NEGATIVO': 4.539786823443137e-05, 'POSITIVO': 0.9999545812606812},\n",
              " {'NEGATIVO': 4.539786823443137e-05, 'POSITIVO': 0.9999545812606812},\n",
              " {'NEGATIVO': 4.539786823443137e-05, 'POSITIVO': 0.9999545812606812},\n",
              " {'NEGATIVO': 4.539786823443137e-05, 'POSITIVO': 0.9999545812606812},\n",
              " {'NEGATIVO': 4.539786823443137e-05, 'POSITIVO': 0.9999545812606812},\n",
              " {'NEGATIVO': 4.539786823443137e-05, 'POSITIVO': 0.9999545812606812},\n",
              " {'NEGATIVO': 4.539786823443137e-05, 'POSITIVO': 0.9999545812606812},\n",
              " {'NEGATIVO': 4.539786823443137e-05, 'POSITIVO': 0.9999545812606812},\n",
              " {'NEGATIVO': 4.539786823443137e-05, 'POSITIVO': 0.9999545812606812},\n",
              " {'NEGATIVO': 4.539786823443137e-05, 'POSITIVO': 0.9999545812606812},\n",
              " {'NEGATIVO': 4.539786823443137e-05, 'POSITIVO': 0.9999545812606812},\n",
              " {'NEGATIVO': 4.539786823443137e-05, 'POSITIVO': 0.9999545812606812},\n",
              " {'NEGATIVO': 4.539786823443137e-05, 'POSITIVO': 0.9999545812606812},\n",
              " {'NEGATIVO': 4.539786823443137e-05, 'POSITIVO': 0.9999545812606812},\n",
              " {'NEGATIVO': 4.539786823443137e-05, 'POSITIVO': 0.9999545812606812},\n",
              " {'NEGATIVO': 4.539786823443137e-05, 'POSITIVO': 0.9999545812606812},\n",
              " {'NEGATIVO': 5.9213849453954026e-05, 'POSITIVO': 0.9999545812606812},\n",
              " {'NEGATIVO': 4.539786823443137e-05, 'POSITIVO': 0.9999545812606812},\n",
              " {'NEGATIVO': 4.539786823443137e-05, 'POSITIVO': 0.9999545812606812},\n",
              " {'NEGATIVO': 4.539786823443137e-05, 'POSITIVO': 0.9999545812606812},\n",
              " {'NEGATIVO': 4.539786823443137e-05, 'POSITIVO': 0.9999545812606812},\n",
              " {'NEGATIVO': 4.539786823443137e-05, 'POSITIVO': 0.9999545812606812},\n",
              " {'NEGATIVO': 4.539786823443137e-05, 'POSITIVO': 0.9999545812606812},\n",
              " {'NEGATIVO': 4.539786823443137e-05, 'POSITIVO': 0.9999545812606812},\n",
              " {'NEGATIVO': 4.539786823443137e-05, 'POSITIVO': 0.9999545812606812},\n",
              " {'NEGATIVO': 4.539786823443137e-05, 'POSITIVO': 0.9999545812606812},\n",
              " {'NEGATIVO': 4.539786823443137e-05, 'POSITIVO': 0.9999545812606812},\n",
              " {'NEGATIVO': 4.539786823443137e-05, 'POSITIVO': 0.9999545812606812},\n",
              " {'NEGATIVO': 4.539786823443137e-05, 'POSITIVO': 0.9999545812606812},\n",
              " {'NEGATIVO': 4.539786823443137e-05, 'POSITIVO': 0.9999545812606812},\n",
              " {'NEGATIVO': 4.539786823443137e-05, 'POSITIVO': 0.9999545812606812},\n",
              " {'NEGATIVO': 4.539786823443137e-05, 'POSITIVO': 0.9999545812606812},\n",
              " {'NEGATIVO': 4.539786823443137e-05, 'POSITIVO': 0.9999545812606812},\n",
              " {'NEGATIVO': 4.539786823443137e-05, 'POSITIVO': 0.9999545812606812},\n",
              " {'NEGATIVO': 4.539786823443137e-05, 'POSITIVO': 0.9999545812606812},\n",
              " {'NEGATIVO': 4.539786823443137e-05, 'POSITIVO': 0.9999545812606812},\n",
              " {'NEGATIVO': 4.539786823443137e-05, 'POSITIVO': 0.9999545812606812},\n",
              " {'NEGATIVO': 4.539786823443137e-05, 'POSITIVO': 0.9999545812606812},\n",
              " {'NEGATIVO': 4.539786823443137e-05, 'POSITIVO': 0.9999545812606812},\n",
              " {'NEGATIVO': 4.539786823443137e-05, 'POSITIVO': 0.9999545812606812},\n",
              " {'NEGATIVO': 4.539786823443137e-05, 'POSITIVO': 0.9999545812606812},\n",
              " {'NEGATIVO': 4.539786823443137e-05, 'POSITIVO': 0.9999545812606812},\n",
              " {'NEGATIVO': 4.539786823443137e-05, 'POSITIVO': 0.9999545812606812},\n",
              " {'NEGATIVO': 4.539786823443137e-05, 'POSITIVO': 0.9999545812606812},\n",
              " {'NEGATIVO': 4.539786823443137e-05, 'POSITIVO': 0.9999545812606812},\n",
              " {'NEGATIVO': 4.539786823443137e-05, 'POSITIVO': 0.9999545812606812},\n",
              " {'NEGATIVO': 4.539786823443137e-05, 'POSITIVO': 0.9999545812606812},\n",
              " {'NEGATIVO': 4.539786823443137e-05, 'POSITIVO': 0.9999545812606812},\n",
              " {'NEGATIVO': 4.539786823443137e-05, 'POSITIVO': 0.9999545812606812},\n",
              " {'NEGATIVO': 4.539786823443137e-05, 'POSITIVO': 0.9999545812606812},\n",
              " {'NEGATIVO': 4.539786823443137e-05, 'POSITIVO': 0.9999545812606812},\n",
              " {'NEGATIVO': 4.539786823443137e-05, 'POSITIVO': 0.9999545812606812},\n",
              " {'NEGATIVO': 4.539786823443137e-05, 'POSITIVO': 0.9999545812606812},\n",
              " {'NEGATIVO': 4.539786823443137e-05, 'POSITIVO': 0.9999545812606812},\n",
              " {'NEGATIVO': 4.539786823443137e-05, 'POSITIVO': 0.9999545812606812},\n",
              " {'NEGATIVO': 5.734427395509556e-05, 'POSITIVO': 0.9999545812606812},\n",
              " {'NEGATIVO': 4.539786823443137e-05, 'POSITIVO': 0.9999545812606812},\n",
              " {'NEGATIVO': 4.539786823443137e-05, 'POSITIVO': 0.9999545812606812},\n",
              " {'NEGATIVO': 4.539786823443137e-05, 'POSITIVO': 0.9999545812606812},\n",
              " {'NEGATIVO': 4.539786823443137e-05, 'POSITIVO': 0.9999545812606812},\n",
              " {'NEGATIVO': 0.0008580809226259589, 'POSITIVO': 0.9994896650314331},\n",
              " {'NEGATIVO': 4.539786823443137e-05, 'POSITIVO': 0.9999545812606812},\n",
              " {'NEGATIVO': 4.539786823443137e-05, 'POSITIVO': 0.9999545812606812},\n",
              " {'NEGATIVO': 4.539786823443137e-05, 'POSITIVO': 0.9999545812606812},\n",
              " {'NEGATIVO': 4.539786823443137e-05, 'POSITIVO': 0.9999545812606812},\n",
              " {'NEGATIVO': 4.539786823443137e-05, 'POSITIVO': 0.9999545812606812},\n",
              " {'NEGATIVO': 4.539786823443137e-05, 'POSITIVO': 0.9999545812606812},\n",
              " {'NEGATIVO': 4.539786823443137e-05, 'POSITIVO': 0.9999545812606812},\n",
              " {'NEGATIVO': 4.539786823443137e-05, 'POSITIVO': 0.9999545812606812},\n",
              " {'NEGATIVO': 4.539786823443137e-05, 'POSITIVO': 0.9999545812606812},\n",
              " {'NEGATIVO': 4.539786823443137e-05, 'POSITIVO': 0.9999545812606812},\n",
              " {'NEGATIVO': 4.539786823443137e-05, 'POSITIVO': 0.9999545812606812},\n",
              " {'NEGATIVO': 4.539786823443137e-05, 'POSITIVO': 0.9999545812606812},\n",
              " {'NEGATIVO': 4.539786823443137e-05, 'POSITIVO': 0.9999545812606812},\n",
              " {'NEGATIVO': 4.539786823443137e-05, 'POSITIVO': 0.9999545812606812},\n",
              " {'NEGATIVO': 4.539786823443137e-05, 'POSITIVO': 0.9999545812606812},\n",
              " {'NEGATIVO': 4.539786823443137e-05, 'POSITIVO': 0.9999545812606812},\n",
              " {'NEGATIVO': 4.539786823443137e-05, 'POSITIVO': 0.9999545812606812},\n",
              " {'NEGATIVO': 4.539786823443137e-05, 'POSITIVO': 0.9999545812606812},\n",
              " {'NEGATIVO': 4.539786823443137e-05, 'POSITIVO': 0.9999545812606812},\n",
              " {'NEGATIVO': 4.539786823443137e-05, 'POSITIVO': 0.9999545812606812},\n",
              " {'NEGATIVO': 4.539786823443137e-05, 'POSITIVO': 0.9999545812606812},\n",
              " {'NEGATIVO': 4.539786823443137e-05, 'POSITIVO': 0.9999545812606812},\n",
              " {'NEGATIVO': 4.539786823443137e-05, 'POSITIVO': 0.9999545812606812},\n",
              " {'NEGATIVO': 4.539786823443137e-05, 'POSITIVO': 0.9999545812606812},\n",
              " {'NEGATIVO': 4.539786823443137e-05, 'POSITIVO': 0.9999545812606812},\n",
              " {'NEGATIVO': 4.539786823443137e-05, 'POSITIVO': 0.9999545812606812},\n",
              " {'NEGATIVO': 4.539786823443137e-05, 'POSITIVO': 0.9999545812606812},\n",
              " {'NEGATIVO': 4.539786823443137e-05, 'POSITIVO': 0.9999545812606812},\n",
              " {'NEGATIVO': 4.539786823443137e-05, 'POSITIVO': 0.9999545812606812},\n",
              " {'NEGATIVO': 4.539786823443137e-05, 'POSITIVO': 0.9999545812606812},\n",
              " {'NEGATIVO': 4.539786823443137e-05, 'POSITIVO': 0.9999545812606812},\n",
              " {'NEGATIVO': 0.0007716924301348627, 'POSITIVO': 0.9994451403617859},\n",
              " {'NEGATIVO': 4.539786823443137e-05, 'POSITIVO': 0.9999545812606812},\n",
              " {'NEGATIVO': 4.539786823443137e-05, 'POSITIVO': 0.9999545812606812},\n",
              " {'NEGATIVO': 4.539786823443137e-05, 'POSITIVO': 0.9999545812606812},\n",
              " {'NEGATIVO': 4.539786823443137e-05, 'POSITIVO': 0.9999545812606812},\n",
              " {'NEGATIVO': 4.539786823443137e-05, 'POSITIVO': 0.9999545812606812},\n",
              " {'NEGATIVO': 4.539786823443137e-05, 'POSITIVO': 0.9999545812606812},\n",
              " {'NEGATIVO': 4.539786823443137e-05, 'POSITIVO': 0.9999545812606812},\n",
              " {'NEGATIVO': 4.539786823443137e-05, 'POSITIVO': 0.9999545812606812},\n",
              " {'NEGATIVO': 4.539786823443137e-05, 'POSITIVO': 0.9999545812606812},\n",
              " {'NEGATIVO': 4.539786823443137e-05, 'POSITIVO': 0.9999545812606812},\n",
              " {'NEGATIVO': 4.539786823443137e-05, 'POSITIVO': 0.9999545812606812},\n",
              " {'NEGATIVO': 4.539786823443137e-05, 'POSITIVO': 0.9999545812606812},\n",
              " {'NEGATIVO': 4.539786823443137e-05, 'POSITIVO': 0.9999545812606812},\n",
              " {'NEGATIVO': 0.004737162962555885, 'POSITIVO': 0.9978849291801453},\n",
              " {'NEGATIVO': 4.539786823443137e-05, 'POSITIVO': 0.9999545812606812},\n",
              " {'NEGATIVO': 4.539786823443137e-05, 'POSITIVO': 0.9999545812606812},\n",
              " {'NEGATIVO': 4.539786823443137e-05, 'POSITIVO': 0.9999545812606812},\n",
              " {'NEGATIVO': 4.539786823443137e-05, 'POSITIVO': 0.9999545812606812},\n",
              " {'NEGATIVO': 4.539786823443137e-05, 'POSITIVO': 0.9999545812606812},\n",
              " {'NEGATIVO': 4.990192246623337e-05, 'POSITIVO': 0.9999514818191528},\n",
              " {'NEGATIVO': 4.539786823443137e-05, 'POSITIVO': 0.9999545812606812},\n",
              " {'NEGATIVO': 4.539786823443137e-05, 'POSITIVO': 0.9999545812606812},\n",
              " {'NEGATIVO': 4.539786823443137e-05, 'POSITIVO': 0.9999545812606812},\n",
              " {'NEGATIVO': 4.539786823443137e-05, 'POSITIVO': 0.9999545812606812},\n",
              " {'NEGATIVO': 4.539786823443137e-05, 'POSITIVO': 0.9999545812606812},\n",
              " {'NEGATIVO': 4.539786823443137e-05, 'POSITIVO': 0.9999545812606812},\n",
              " {'NEGATIVO': 4.539786823443137e-05, 'POSITIVO': 0.9999545812606812},\n",
              " {'NEGATIVO': 4.539786823443137e-05, 'POSITIVO': 0.9999545812606812},\n",
              " {'NEGATIVO': 4.539786823443137e-05, 'POSITIVO': 0.9999545812606812},\n",
              " {'NEGATIVO': 6.512975960504264e-05, 'POSITIVO': 0.9999545812606812},\n",
              " {'NEGATIVO': 4.539786823443137e-05, 'POSITIVO': 0.9999545812606812},\n",
              " {'NEGATIVO': 4.539786823443137e-05, 'POSITIVO': 0.9999545812606812},\n",
              " {'NEGATIVO': 4.539786823443137e-05, 'POSITIVO': 0.9999545812606812},\n",
              " {'NEGATIVO': 4.539786823443137e-05, 'POSITIVO': 0.9999545812606812},\n",
              " {'NEGATIVO': 4.539786823443137e-05, 'POSITIVO': 0.9999545812606812},\n",
              " {'NEGATIVO': 4.539786823443137e-05, 'POSITIVO': 0.9999545812606812},\n",
              " {'NEGATIVO': 4.539786823443137e-05, 'POSITIVO': 0.9999545812606812},\n",
              " {'NEGATIVO': 4.539786823443137e-05, 'POSITIVO': 0.9999545812606812},\n",
              " {'NEGATIVO': 4.539786823443137e-05, 'POSITIVO': 0.9999545812606812},\n",
              " {'NEGATIVO': 4.539786823443137e-05, 'POSITIVO': 0.9999545812606812},\n",
              " {'NEGATIVO': 4.539786823443137e-05, 'POSITIVO': 0.9999545812606812},\n",
              " {'NEGATIVO': 4.539786823443137e-05, 'POSITIVO': 0.9999545812606812},\n",
              " {'NEGATIVO': 4.539786823443137e-05, 'POSITIVO': 0.9999545812606812},\n",
              " {'NEGATIVO': 4.539786823443137e-05, 'POSITIVO': 0.9999545812606812},\n",
              " {'NEGATIVO': 4.539786823443137e-05, 'POSITIVO': 0.9999545812606812},\n",
              " {'NEGATIVO': 4.539786823443137e-05, 'POSITIVO': 0.9999545812606812},\n",
              " {'NEGATIVO': 4.539786823443137e-05, 'POSITIVO': 0.9999545812606812},\n",
              " {'NEGATIVO': 4.539786823443137e-05, 'POSITIVO': 0.9999545812606812},\n",
              " {'NEGATIVO': 4.539786823443137e-05, 'POSITIVO': 0.9999545812606812},\n",
              " {'NEGATIVO': 4.539786823443137e-05, 'POSITIVO': 0.9999545812606812},\n",
              " {'NEGATIVO': 4.539786823443137e-05, 'POSITIVO': 0.9999545812606812},\n",
              " {'NEGATIVO': 4.539786823443137e-05, 'POSITIVO': 0.9999545812606812},\n",
              " {'NEGATIVO': 4.539786823443137e-05, 'POSITIVO': 0.9999545812606812},\n",
              " {'NEGATIVO': 4.539786823443137e-05, 'POSITIVO': 0.9999545812606812},\n",
              " {'NEGATIVO': 4.539786823443137e-05, 'POSITIVO': 0.9999545812606812},\n",
              " {'NEGATIVO': 4.539786823443137e-05, 'POSITIVO': 0.9999545812606812},\n",
              " {'NEGATIVO': 4.539786823443137e-05, 'POSITIVO': 0.9999545812606812},\n",
              " {'NEGATIVO': 4.539786823443137e-05, 'POSITIVO': 0.9999545812606812},\n",
              " {'NEGATIVO': 4.539786823443137e-05, 'POSITIVO': 0.9999545812606812},\n",
              " {'NEGATIVO': 4.539786823443137e-05, 'POSITIVO': 0.9999545812606812},\n",
              " {'NEGATIVO': 0.0003298003866802901, 'POSITIVO': 0.9999533891677856},\n",
              " {'NEGATIVO': 4.539786823443137e-05, 'POSITIVO': 0.9999545812606812},\n",
              " {'NEGATIVO': 4.539786823443137e-05, 'POSITIVO': 0.9999545812606812},\n",
              " {'NEGATIVO': 4.539786823443137e-05, 'POSITIVO': 0.9999545812606812},\n",
              " {'NEGATIVO': 4.539786823443137e-05, 'POSITIVO': 0.9999545812606812},\n",
              " {'NEGATIVO': 4.539786823443137e-05, 'POSITIVO': 0.9999545812606812},\n",
              " {'NEGATIVO': 4.539786823443137e-05, 'POSITIVO': 0.9999545812606812},\n",
              " {'NEGATIVO': 4.539786823443137e-05, 'POSITIVO': 0.9999545812606812},\n",
              " {'NEGATIVO': 4.539786823443137e-05, 'POSITIVO': 0.9999545812606812},\n",
              " {'NEGATIVO': 4.539786823443137e-05, 'POSITIVO': 0.9999545812606812},\n",
              " {'NEGATIVO': 4.539786823443137e-05, 'POSITIVO': 0.9999545812606812},\n",
              " {'NEGATIVO': 4.539786823443137e-05, 'POSITIVO': 0.9999545812606812},\n",
              " {'NEGATIVO': 4.539786823443137e-05, 'POSITIVO': 0.9999545812606812},\n",
              " {'NEGATIVO': 4.539786823443137e-05, 'POSITIVO': 0.9999545812606812},\n",
              " {'NEGATIVO': 4.539786823443137e-05, 'POSITIVO': 0.9999545812606812},\n",
              " {'NEGATIVO': 4.539786823443137e-05, 'POSITIVO': 0.9999545812606812},\n",
              " {'NEGATIVO': 4.539786823443137e-05, 'POSITIVO': 0.9999545812606812},\n",
              " {'NEGATIVO': 4.539786823443137e-05, 'POSITIVO': 0.9999545812606812},\n",
              " ...]"
            ]
          },
          "metadata": {},
          "execution_count": 73
        }
      ]
    },
    {
      "cell_type": "code",
      "metadata": {
        "id": "YslDvk4ggOg5"
      },
      "source": [
        "previsoes_final = []\n",
        "for previsao in previsoes:\n",
        "  if previsao['POSITIVO'] > previsao['NEGATIVO']:\n",
        "    previsoes_final.append(1)\n",
        "  else:\n",
        "    previsoes_final.append(0)\n",
        "\n",
        "previsoes_final = np.array(previsoes_final)"
      ],
      "execution_count": 74,
      "outputs": []
    },
    {
      "cell_type": "code",
      "metadata": {
        "colab": {
          "base_uri": "https://localhost:8080/"
        },
        "id": "ol2P-nBpgQb5",
        "outputId": "b46627dc-af79-4dc9-a579-8f6cf0e7f71c"
      },
      "source": [
        "previsoes_final"
      ],
      "execution_count": 75,
      "outputs": [
        {
          "output_type": "execute_result",
          "data": {
            "text/plain": [
              "array([1, 1, 1, ..., 0, 0, 0])"
            ]
          },
          "metadata": {},
          "execution_count": 75
        }
      ]
    },
    {
      "cell_type": "code",
      "metadata": {
        "colab": {
          "base_uri": "https://localhost:8080/"
        },
        "id": "L-JE_4zjgRrJ",
        "outputId": "63381cb8-7639-4291-de8a-d235cf8c12e2"
      },
      "source": [
        "respostas_reais = base_treinamento['sentiment'].values\n",
        "respostas_reais"
      ],
      "execution_count": 76,
      "outputs": [
        {
          "output_type": "execute_result",
          "data": {
            "text/plain": [
              "array([1, 1, 1, ..., 0, 0, 0])"
            ]
          },
          "metadata": {},
          "execution_count": 76
        }
      ]
    },
    {
      "cell_type": "code",
      "metadata": {
        "colab": {
          "base_uri": "https://localhost:8080/"
        },
        "id": "FEyZdG3GgTSR",
        "outputId": "c721f988-cb83-4d1f-97b4-f0f30783a123"
      },
      "source": [
        "from sklearn.metrics import confusion_matrix, accuracy_score\n",
        "accuracy_score(respostas_reais, previsoes_final)"
      ],
      "execution_count": 77,
      "outputs": [
        {
          "output_type": "execute_result",
          "data": {
            "text/plain": [
              "0.99984"
            ]
          },
          "metadata": {},
          "execution_count": 77
        }
      ]
    },
    {
      "cell_type": "code",
      "metadata": {
        "colab": {
          "base_uri": "https://localhost:8080/"
        },
        "id": "YLHHYuHbgdAD",
        "outputId": "a0d7a1d1-6f8a-47ad-900c-6f6458db3186"
      },
      "source": [
        "cm = confusion_matrix(respostas_reais, previsoes_final)\n",
        "cm"
      ],
      "execution_count": 78,
      "outputs": [
        {
          "output_type": "execute_result",
          "data": {
            "text/plain": [
              "array([[24992,     8],\n",
              "       [    0, 25000]])"
            ]
          },
          "metadata": {},
          "execution_count": 78
        }
      ]
    },
    {
      "cell_type": "code",
      "metadata": {
        "colab": {
          "base_uri": "https://localhost:8080/",
          "height": 286
        },
        "id": "hu9IZNuXge1Q",
        "outputId": "a33188e2-38c7-4734-96a9-55dd6bea8963"
      },
      "source": [
        "sns.heatmap(cm, annot=True)"
      ],
      "execution_count": 79,
      "outputs": [
        {
          "output_type": "execute_result",
          "data": {
            "text/plain": [
              "<matplotlib.axes._subplots.AxesSubplot at 0x7ff040d392d0>"
            ]
          },
          "metadata": {},
          "execution_count": 79
        },
        {
          "output_type": "display_data",
          "data": {
            "image/png": "[encoded data removed]",
            "text/plain": [
              "<Figure size 432x288 with 2 Axes>"
            ]
          },
          "metadata": {
            "needs_background": "light"
          }
        }
      ]
    },
    {
      "cell_type": "markdown",
      "metadata": {
        "id": "hhR3sy54gghg"
      },
      "source": [
        "## Avaliação na base de teste"
      ]
    },
    {
      "cell_type": "code",
      "metadata": {
        "id": "yM9EcUeQgic4"
      },
      "source": [
        "previsoes = []\n",
        "for texto in base_teste['tweet_text']:\n",
        "  previsao = modelo_carregado(texto)\n",
        "  previsoes.append(previsao.cats)"
      ],
      "execution_count": 80,
      "outputs": []
    },
    {
      "cell_type": "code",
      "metadata": {
        "id": "HtdpKpTNgj94"
      },
      "source": [
        "previsoes_final = []\n",
        "for previsao in previsoes:\n",
        "  if previsao['POSITIVO'] > previsao['NEGATIVO']:\n",
        "    previsoes_final.append(1)\n",
        "  else:\n",
        "    previsoes_final.append(0)\n",
        "\n",
        "previsoes_final = np.array(previsoes_final)"
      ],
      "execution_count": 81,
      "outputs": []
    },
    {
      "cell_type": "code",
      "metadata": {
        "id": "og63ckSoglbA"
      },
      "source": [
        "respostas_reais = base_teste['sentiment'].values"
      ],
      "execution_count": 82,
      "outputs": []
    },
    {
      "cell_type": "code",
      "metadata": {
        "colab": {
          "base_uri": "https://localhost:8080/"
        },
        "id": "MdoE8NCugnKx",
        "outputId": "97b0e792-72c5-4745-8270-a88e83f80d88"
      },
      "source": [
        "accuracy_score(respostas_reais, previsoes_final)"
      ],
      "execution_count": 83,
      "outputs": [
        {
          "output_type": "execute_result",
          "data": {
            "text/plain": [
              "0.9978"
            ]
          },
          "metadata": {},
          "execution_count": 83
        }
      ]
    },
    {
      "cell_type": "code",
      "metadata": {
        "colab": {
          "base_uri": "https://localhost:8080/"
        },
        "id": "FFr_p4mIgoZZ",
        "outputId": "1caf3eb5-3e35-4fd9-9171-dbbafb51a13d"
      },
      "source": [
        "cm = confusion_matrix(respostas_reais, previsoes_final)\n",
        "cm"
      ],
      "execution_count": 84,
      "outputs": [
        {
          "output_type": "execute_result",
          "data": {
            "text/plain": [
              "array([[2495,    5],\n",
              "       [   6, 2494]])"
            ]
          },
          "metadata": {},
          "execution_count": 84
        }
      ]
    },
    {
      "cell_type": "code",
      "metadata": {
        "colab": {
          "base_uri": "https://localhost:8080/",
          "height": 282
        },
        "id": "sIndijgAgpm4",
        "outputId": "eb2a3bdd-7e47-4447-9b70-8892c1469fed"
      },
      "source": [
        "sns.heatmap(cm, annot=True)"
      ],
      "execution_count": 85,
      "outputs": [
        {
          "output_type": "execute_result",
          "data": {
            "text/plain": [
              "<matplotlib.axes._subplots.AxesSubplot at 0x7ff040ce0610>"
            ]
          },
          "metadata": {},
          "execution_count": 85
        },
        {
          "output_type": "display_data",
          "data": {
            "image/png": "[encoded data removed]",
            "text/plain": [
              "<Figure size 432x288 with 2 Axes>"
            ]
          },
          "metadata": {
            "needs_background": "light"
          }
        }
      ]
    }
  ]
}